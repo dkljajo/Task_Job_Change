{
 "cells": [
  {
   "cell_type": "markdown",
   "metadata": {},
   "source": [
    "Dataset link\n",
    "\n",
    "This dataset is designed for the HR team to understand the factors that lead a person to leave their current job and work for a Data company. By using data such as the candidate’s education, demographics, experience, etc. you will need to predict if the candidate will change his/her job or not (binary classification). Further details about the data can be found in the Description of the dataset. For this task, you will need to do the following (note: this is a list of tasks that should be covered, but it is not limited to this):\n",
    "\n",
    "Cleaning\n",
    "\n",
    "a. Handle missing values (please explain in the comments the reasoning behind the approach you took)\n",
    "\n",
    "b. Handle categorical data\n",
    "\n",
    "Analyzing \n",
    "\n",
    "a. Do EDA (Exploratory Data Analysis)\n",
    "\n",
    "b. Check how (un)balanced the data and comment on possible effects\n",
    "\n",
    "c. Show the correlation matrix\n",
    "\n",
    "Feature engineering\n",
    "\n",
    "a. Determine which features should be included in the final dataset (comment on the approach and conclusions)\n",
    "\n",
    "b. Create a new dataset with the selected cleaned features\n",
    "\n",
    "Modeling\n",
    "\n",
    "a. Train at least two models (comment on the model choice)\n",
    "\n",
    "b. Compare the models against a minimum of three metrics (comment on the metric choice)\n",
    "\n",
    "c. Fine-tune one model with grid search\n",
    "\n",
    "d. Perform cross validation and comment on the results\n",
    "\n",
    "e. Save the best model\n",
    "\n",
    "Results\n",
    "\n",
    "a. Save the test results to a csv file with columns employee_id, target\n",
    "\n",
    "b. Create a function which will have employee_id as input, and return the predicted target value from the file\n",
    "\n",
    "Make sure to comment the code!\n",
    "All of the code and files need to be available on your github repository.\n",
    "\n",
    "Once you create the repository, please send us the link, and remember to commit regularly! In case you have any questions, feel free to reach out! Good luck!"
   ]
  },
  {
   "cell_type": "code",
   "execution_count": 1,
   "metadata": {},
   "outputs": [],
   "source": [
    "import pandas as pd\n",
    "import numpy as np\n",
    "import seaborn as sns\n",
    "import matplotlib.pyplot as plt\n",
    "import random\n",
    "import statistics \n",
    "from pandas import get_dummies\n",
    "from imblearn.over_sampling import SMOTE\n",
    "from sklearn.decomposition import PCA\n",
    "from sklearn.metrics import roc_auc_score\n",
    "from xgboost import XGBClassifier\n",
    "from sklearn.linear_model import SGDClassifier\n",
    "from sklearn.ensemble import RandomForestClassifier\n",
    "from sklearn.linear_model import LogisticRegression\n",
    "from sklearn.preprocessing import normalize\n",
    "from sklearn.model_selection import train_test_split\n",
    "from sklearn.model_selection import cross_val_score\n",
    "from sklearn.model_selection import GridSearchCV\n",
    "from sklearn.metrics import classification_report,confusion_matrix,accuracy_score,mean_squared_error\n",
    "from sklearn.metrics import roc_auc_score,roc_curve\n",
    "from imblearn.pipeline import Pipeline as imbPipe\n",
    "from xgboost import  XGBClassifier\n",
    "import warnings\n",
    "warnings.filterwarnings(\"ignore\")"
   ]
  },
  {
   "cell_type": "markdown",
   "metadata": {},
   "source": [
    "## Load and check data"
   ]
  },
  {
   "cell_type": "code",
   "execution_count": 2,
   "metadata": {},
   "outputs": [],
   "source": [
    "train_data = pd.read_csv(\"D://aug_train.csv\")\n",
    "test_data = pd.read_csv(\"D://aug_test.csv\")\n",
    "sample_submission = pd.read_csv(\"D://sample_submission.csv\")\n",
    "enrollee_id = test_data[\"enrollee_id\"]"
   ]
  },
  {
   "cell_type": "markdown",
   "metadata": {},
   "source": [
    "#  Exploatory Data Analysis (EDA)"
   ]
  },
  {
   "cell_type": "code",
   "execution_count": 3,
   "metadata": {},
   "outputs": [
    {
     "name": "stdout",
     "output_type": "stream",
     "text": [
      "Number of Rows and Columns in train dataset: (19158, 14)\n",
      "Number of Rows and Columns in test dataset: (2129, 13)\n",
      "The shape of sample submission dataset:  (2129, 2)\n"
     ]
    }
   ],
   "source": [
    "print('Number of Rows and Columns in train dataset:', train_data.shape)\n",
    "print('Number of Rows and Columns in test dataset:', test_data.shape)\n",
    "print('The shape of sample submission dataset: ', sample_submission.shape)"
   ]
  },
  {
   "cell_type": "code",
   "execution_count": 4,
   "metadata": {},
   "outputs": [
    {
     "data": {
      "text/html": [
       "<div>\n",
       "<style scoped>\n",
       "    .dataframe tbody tr th:only-of-type {\n",
       "        vertical-align: middle;\n",
       "    }\n",
       "\n",
       "    .dataframe tbody tr th {\n",
       "        vertical-align: top;\n",
       "    }\n",
       "\n",
       "    .dataframe thead th {\n",
       "        text-align: right;\n",
       "    }\n",
       "</style>\n",
       "<table border=\"1\" class=\"dataframe\">\n",
       "  <thead>\n",
       "    <tr style=\"text-align: right;\">\n",
       "      <th></th>\n",
       "      <th>enrollee_id</th>\n",
       "      <th>city</th>\n",
       "      <th>city_development_index</th>\n",
       "      <th>gender</th>\n",
       "      <th>relevent_experience</th>\n",
       "      <th>enrolled_university</th>\n",
       "      <th>education_level</th>\n",
       "      <th>major_discipline</th>\n",
       "      <th>experience</th>\n",
       "      <th>company_size</th>\n",
       "      <th>company_type</th>\n",
       "      <th>last_new_job</th>\n",
       "      <th>training_hours</th>\n",
       "      <th>target</th>\n",
       "    </tr>\n",
       "  </thead>\n",
       "  <tbody>\n",
       "    <tr>\n",
       "      <th>0</th>\n",
       "      <td>8949</td>\n",
       "      <td>city_103</td>\n",
       "      <td>0.920</td>\n",
       "      <td>Male</td>\n",
       "      <td>Has relevent experience</td>\n",
       "      <td>no_enrollment</td>\n",
       "      <td>Graduate</td>\n",
       "      <td>STEM</td>\n",
       "      <td>&gt;20</td>\n",
       "      <td>NaN</td>\n",
       "      <td>NaN</td>\n",
       "      <td>1</td>\n",
       "      <td>36</td>\n",
       "      <td>1.0</td>\n",
       "    </tr>\n",
       "    <tr>\n",
       "      <th>1</th>\n",
       "      <td>29725</td>\n",
       "      <td>city_40</td>\n",
       "      <td>0.776</td>\n",
       "      <td>Male</td>\n",
       "      <td>No relevent experience</td>\n",
       "      <td>no_enrollment</td>\n",
       "      <td>Graduate</td>\n",
       "      <td>STEM</td>\n",
       "      <td>15</td>\n",
       "      <td>50-99</td>\n",
       "      <td>Pvt Ltd</td>\n",
       "      <td>&gt;4</td>\n",
       "      <td>47</td>\n",
       "      <td>0.0</td>\n",
       "    </tr>\n",
       "    <tr>\n",
       "      <th>2</th>\n",
       "      <td>11561</td>\n",
       "      <td>city_21</td>\n",
       "      <td>0.624</td>\n",
       "      <td>NaN</td>\n",
       "      <td>No relevent experience</td>\n",
       "      <td>Full time course</td>\n",
       "      <td>Graduate</td>\n",
       "      <td>STEM</td>\n",
       "      <td>5</td>\n",
       "      <td>NaN</td>\n",
       "      <td>NaN</td>\n",
       "      <td>never</td>\n",
       "      <td>83</td>\n",
       "      <td>0.0</td>\n",
       "    </tr>\n",
       "    <tr>\n",
       "      <th>3</th>\n",
       "      <td>33241</td>\n",
       "      <td>city_115</td>\n",
       "      <td>0.789</td>\n",
       "      <td>NaN</td>\n",
       "      <td>No relevent experience</td>\n",
       "      <td>NaN</td>\n",
       "      <td>Graduate</td>\n",
       "      <td>Business Degree</td>\n",
       "      <td>&lt;1</td>\n",
       "      <td>NaN</td>\n",
       "      <td>Pvt Ltd</td>\n",
       "      <td>never</td>\n",
       "      <td>52</td>\n",
       "      <td>1.0</td>\n",
       "    </tr>\n",
       "    <tr>\n",
       "      <th>4</th>\n",
       "      <td>666</td>\n",
       "      <td>city_162</td>\n",
       "      <td>0.767</td>\n",
       "      <td>Male</td>\n",
       "      <td>Has relevent experience</td>\n",
       "      <td>no_enrollment</td>\n",
       "      <td>Masters</td>\n",
       "      <td>STEM</td>\n",
       "      <td>&gt;20</td>\n",
       "      <td>50-99</td>\n",
       "      <td>Funded Startup</td>\n",
       "      <td>4</td>\n",
       "      <td>8</td>\n",
       "      <td>0.0</td>\n",
       "    </tr>\n",
       "  </tbody>\n",
       "</table>\n",
       "</div>"
      ],
      "text/plain": [
       "   enrollee_id      city  city_development_index gender  \\\n",
       "0         8949  city_103                   0.920   Male   \n",
       "1        29725   city_40                   0.776   Male   \n",
       "2        11561   city_21                   0.624    NaN   \n",
       "3        33241  city_115                   0.789    NaN   \n",
       "4          666  city_162                   0.767   Male   \n",
       "\n",
       "       relevent_experience enrolled_university education_level  \\\n",
       "0  Has relevent experience       no_enrollment        Graduate   \n",
       "1   No relevent experience       no_enrollment        Graduate   \n",
       "2   No relevent experience    Full time course        Graduate   \n",
       "3   No relevent experience                 NaN        Graduate   \n",
       "4  Has relevent experience       no_enrollment         Masters   \n",
       "\n",
       "  major_discipline experience company_size    company_type last_new_job  \\\n",
       "0             STEM        >20          NaN             NaN            1   \n",
       "1             STEM         15        50-99         Pvt Ltd           >4   \n",
       "2             STEM          5          NaN             NaN        never   \n",
       "3  Business Degree         <1          NaN         Pvt Ltd        never   \n",
       "4             STEM        >20        50-99  Funded Startup            4   \n",
       "\n",
       "   training_hours  target  \n",
       "0              36     1.0  \n",
       "1              47     0.0  \n",
       "2              83     0.0  \n",
       "3              52     1.0  \n",
       "4               8     0.0  "
      ]
     },
     "execution_count": 4,
     "metadata": {},
     "output_type": "execute_result"
    }
   ],
   "source": [
    "train_data.head()"
   ]
  },
  {
   "cell_type": "markdown",
   "metadata": {},
   "source": [
    "When we look the first 5 rows of data, we can see that there is a lot of missing values"
   ]
  },
  {
   "cell_type": "code",
   "execution_count": 5,
   "metadata": {},
   "outputs": [
    {
     "name": "stdout",
     "output_type": "stream",
     "text": [
      "<class 'pandas.core.frame.DataFrame'>\n",
      "RangeIndex: 19158 entries, 0 to 19157\n",
      "Data columns (total 14 columns):\n",
      " #   Column                  Non-Null Count  Dtype  \n",
      "---  ------                  --------------  -----  \n",
      " 0   enrollee_id             19158 non-null  int64  \n",
      " 1   city                    19158 non-null  object \n",
      " 2   city_development_index  19158 non-null  float64\n",
      " 3   gender                  14650 non-null  object \n",
      " 4   relevent_experience     19158 non-null  object \n",
      " 5   enrolled_university     18772 non-null  object \n",
      " 6   education_level         18698 non-null  object \n",
      " 7   major_discipline        16345 non-null  object \n",
      " 8   experience              19093 non-null  object \n",
      " 9   company_size            13220 non-null  object \n",
      " 10  company_type            13018 non-null  object \n",
      " 11  last_new_job            18735 non-null  object \n",
      " 12  training_hours          19158 non-null  int64  \n",
      " 13  target                  19158 non-null  float64\n",
      "dtypes: float64(2), int64(2), object(10)\n",
      "memory usage: 2.0+ MB\n"
     ]
    }
   ],
   "source": [
    "train_data.info()"
   ]
  },
  {
   "cell_type": "code",
   "execution_count": 6,
   "metadata": {},
   "outputs": [
    {
     "data": {
      "text/html": [
       "<div>\n",
       "<style scoped>\n",
       "    .dataframe tbody tr th:only-of-type {\n",
       "        vertical-align: middle;\n",
       "    }\n",
       "\n",
       "    .dataframe tbody tr th {\n",
       "        vertical-align: top;\n",
       "    }\n",
       "\n",
       "    .dataframe thead th {\n",
       "        text-align: right;\n",
       "    }\n",
       "</style>\n",
       "<table border=\"1\" class=\"dataframe\">\n",
       "  <thead>\n",
       "    <tr style=\"text-align: right;\">\n",
       "      <th></th>\n",
       "      <th>enrollee_id</th>\n",
       "      <th>city</th>\n",
       "      <th>city_development_index</th>\n",
       "      <th>gender</th>\n",
       "      <th>relevent_experience</th>\n",
       "      <th>enrolled_university</th>\n",
       "      <th>education_level</th>\n",
       "      <th>major_discipline</th>\n",
       "      <th>experience</th>\n",
       "      <th>company_size</th>\n",
       "      <th>company_type</th>\n",
       "      <th>last_new_job</th>\n",
       "      <th>training_hours</th>\n",
       "    </tr>\n",
       "  </thead>\n",
       "  <tbody>\n",
       "    <tr>\n",
       "      <th>0</th>\n",
       "      <td>32403</td>\n",
       "      <td>city_41</td>\n",
       "      <td>0.827</td>\n",
       "      <td>Male</td>\n",
       "      <td>Has relevent experience</td>\n",
       "      <td>Full time course</td>\n",
       "      <td>Graduate</td>\n",
       "      <td>STEM</td>\n",
       "      <td>9</td>\n",
       "      <td>&lt;10</td>\n",
       "      <td>NaN</td>\n",
       "      <td>1</td>\n",
       "      <td>21</td>\n",
       "    </tr>\n",
       "    <tr>\n",
       "      <th>1</th>\n",
       "      <td>9858</td>\n",
       "      <td>city_103</td>\n",
       "      <td>0.920</td>\n",
       "      <td>Female</td>\n",
       "      <td>Has relevent experience</td>\n",
       "      <td>no_enrollment</td>\n",
       "      <td>Graduate</td>\n",
       "      <td>STEM</td>\n",
       "      <td>5</td>\n",
       "      <td>NaN</td>\n",
       "      <td>Pvt Ltd</td>\n",
       "      <td>1</td>\n",
       "      <td>98</td>\n",
       "    </tr>\n",
       "    <tr>\n",
       "      <th>2</th>\n",
       "      <td>31806</td>\n",
       "      <td>city_21</td>\n",
       "      <td>0.624</td>\n",
       "      <td>Male</td>\n",
       "      <td>No relevent experience</td>\n",
       "      <td>no_enrollment</td>\n",
       "      <td>High School</td>\n",
       "      <td>NaN</td>\n",
       "      <td>&lt;1</td>\n",
       "      <td>NaN</td>\n",
       "      <td>Pvt Ltd</td>\n",
       "      <td>never</td>\n",
       "      <td>15</td>\n",
       "    </tr>\n",
       "    <tr>\n",
       "      <th>3</th>\n",
       "      <td>27385</td>\n",
       "      <td>city_13</td>\n",
       "      <td>0.827</td>\n",
       "      <td>Male</td>\n",
       "      <td>Has relevent experience</td>\n",
       "      <td>no_enrollment</td>\n",
       "      <td>Masters</td>\n",
       "      <td>STEM</td>\n",
       "      <td>11</td>\n",
       "      <td>10/49</td>\n",
       "      <td>Pvt Ltd</td>\n",
       "      <td>1</td>\n",
       "      <td>39</td>\n",
       "    </tr>\n",
       "    <tr>\n",
       "      <th>4</th>\n",
       "      <td>27724</td>\n",
       "      <td>city_103</td>\n",
       "      <td>0.920</td>\n",
       "      <td>Male</td>\n",
       "      <td>Has relevent experience</td>\n",
       "      <td>no_enrollment</td>\n",
       "      <td>Graduate</td>\n",
       "      <td>STEM</td>\n",
       "      <td>&gt;20</td>\n",
       "      <td>10000+</td>\n",
       "      <td>Pvt Ltd</td>\n",
       "      <td>&gt;4</td>\n",
       "      <td>72</td>\n",
       "    </tr>\n",
       "  </tbody>\n",
       "</table>\n",
       "</div>"
      ],
      "text/plain": [
       "   enrollee_id      city  city_development_index  gender  \\\n",
       "0        32403   city_41                   0.827    Male   \n",
       "1         9858  city_103                   0.920  Female   \n",
       "2        31806   city_21                   0.624    Male   \n",
       "3        27385   city_13                   0.827    Male   \n",
       "4        27724  city_103                   0.920    Male   \n",
       "\n",
       "       relevent_experience enrolled_university education_level  \\\n",
       "0  Has relevent experience    Full time course        Graduate   \n",
       "1  Has relevent experience       no_enrollment        Graduate   \n",
       "2   No relevent experience       no_enrollment     High School   \n",
       "3  Has relevent experience       no_enrollment         Masters   \n",
       "4  Has relevent experience       no_enrollment        Graduate   \n",
       "\n",
       "  major_discipline experience company_size company_type last_new_job  \\\n",
       "0             STEM          9          <10          NaN            1   \n",
       "1             STEM          5          NaN      Pvt Ltd            1   \n",
       "2              NaN         <1          NaN      Pvt Ltd        never   \n",
       "3             STEM         11        10/49      Pvt Ltd            1   \n",
       "4             STEM        >20       10000+      Pvt Ltd           >4   \n",
       "\n",
       "   training_hours  \n",
       "0              21  \n",
       "1              98  \n",
       "2              15  \n",
       "3              39  \n",
       "4              72  "
      ]
     },
     "execution_count": 6,
     "metadata": {},
     "output_type": "execute_result"
    }
   ],
   "source": [
    "test_data.head()"
   ]
  },
  {
   "cell_type": "code",
   "execution_count": 7,
   "metadata": {},
   "outputs": [
    {
     "data": {
      "text/html": [
       "<div>\n",
       "<style scoped>\n",
       "    .dataframe tbody tr th:only-of-type {\n",
       "        vertical-align: middle;\n",
       "    }\n",
       "\n",
       "    .dataframe tbody tr th {\n",
       "        vertical-align: top;\n",
       "    }\n",
       "\n",
       "    .dataframe thead th {\n",
       "        text-align: right;\n",
       "    }\n",
       "</style>\n",
       "<table border=\"1\" class=\"dataframe\">\n",
       "  <thead>\n",
       "    <tr style=\"text-align: right;\">\n",
       "      <th></th>\n",
       "      <th>enrollee_id</th>\n",
       "      <th>target</th>\n",
       "    </tr>\n",
       "  </thead>\n",
       "  <tbody>\n",
       "    <tr>\n",
       "      <th>0</th>\n",
       "      <td>32403</td>\n",
       "      <td>0.5</td>\n",
       "    </tr>\n",
       "    <tr>\n",
       "      <th>1</th>\n",
       "      <td>9858</td>\n",
       "      <td>0.5</td>\n",
       "    </tr>\n",
       "    <tr>\n",
       "      <th>2</th>\n",
       "      <td>31806</td>\n",
       "      <td>0.5</td>\n",
       "    </tr>\n",
       "    <tr>\n",
       "      <th>3</th>\n",
       "      <td>27385</td>\n",
       "      <td>0.5</td>\n",
       "    </tr>\n",
       "    <tr>\n",
       "      <th>4</th>\n",
       "      <td>27724</td>\n",
       "      <td>0.5</td>\n",
       "    </tr>\n",
       "  </tbody>\n",
       "</table>\n",
       "</div>"
      ],
      "text/plain": [
       "   enrollee_id  target\n",
       "0        32403     0.5\n",
       "1         9858     0.5\n",
       "2        31806     0.5\n",
       "3        27385     0.5\n",
       "4        27724     0.5"
      ]
     },
     "execution_count": 7,
     "metadata": {},
     "output_type": "execute_result"
    }
   ],
   "source": [
    "sample_submission.head()"
   ]
  },
  {
   "cell_type": "code",
   "execution_count": 8,
   "metadata": {},
   "outputs": [
    {
     "data": {
      "text/html": [
       "<div>\n",
       "<style scoped>\n",
       "    .dataframe tbody tr th:only-of-type {\n",
       "        vertical-align: middle;\n",
       "    }\n",
       "\n",
       "    .dataframe tbody tr th {\n",
       "        vertical-align: top;\n",
       "    }\n",
       "\n",
       "    .dataframe thead th {\n",
       "        text-align: right;\n",
       "    }\n",
       "</style>\n",
       "<table border=\"1\" class=\"dataframe\">\n",
       "  <thead>\n",
       "    <tr style=\"text-align: right;\">\n",
       "      <th></th>\n",
       "      <th>enrollee_id</th>\n",
       "      <th>city_development_index</th>\n",
       "      <th>training_hours</th>\n",
       "      <th>target</th>\n",
       "    </tr>\n",
       "  </thead>\n",
       "  <tbody>\n",
       "    <tr>\n",
       "      <th>count</th>\n",
       "      <td>19158.000000</td>\n",
       "      <td>19158.000000</td>\n",
       "      <td>19158.000000</td>\n",
       "      <td>19158.000000</td>\n",
       "    </tr>\n",
       "    <tr>\n",
       "      <th>mean</th>\n",
       "      <td>16875.358179</td>\n",
       "      <td>0.828848</td>\n",
       "      <td>65.366896</td>\n",
       "      <td>0.249348</td>\n",
       "    </tr>\n",
       "    <tr>\n",
       "      <th>std</th>\n",
       "      <td>9616.292592</td>\n",
       "      <td>0.123362</td>\n",
       "      <td>60.058462</td>\n",
       "      <td>0.432647</td>\n",
       "    </tr>\n",
       "    <tr>\n",
       "      <th>min</th>\n",
       "      <td>1.000000</td>\n",
       "      <td>0.448000</td>\n",
       "      <td>1.000000</td>\n",
       "      <td>0.000000</td>\n",
       "    </tr>\n",
       "    <tr>\n",
       "      <th>25%</th>\n",
       "      <td>8554.250000</td>\n",
       "      <td>0.740000</td>\n",
       "      <td>23.000000</td>\n",
       "      <td>0.000000</td>\n",
       "    </tr>\n",
       "    <tr>\n",
       "      <th>50%</th>\n",
       "      <td>16982.500000</td>\n",
       "      <td>0.903000</td>\n",
       "      <td>47.000000</td>\n",
       "      <td>0.000000</td>\n",
       "    </tr>\n",
       "    <tr>\n",
       "      <th>75%</th>\n",
       "      <td>25169.750000</td>\n",
       "      <td>0.920000</td>\n",
       "      <td>88.000000</td>\n",
       "      <td>0.000000</td>\n",
       "    </tr>\n",
       "    <tr>\n",
       "      <th>max</th>\n",
       "      <td>33380.000000</td>\n",
       "      <td>0.949000</td>\n",
       "      <td>336.000000</td>\n",
       "      <td>1.000000</td>\n",
       "    </tr>\n",
       "  </tbody>\n",
       "</table>\n",
       "</div>"
      ],
      "text/plain": [
       "        enrollee_id  city_development_index  training_hours        target\n",
       "count  19158.000000            19158.000000    19158.000000  19158.000000\n",
       "mean   16875.358179                0.828848       65.366896      0.249348\n",
       "std     9616.292592                0.123362       60.058462      0.432647\n",
       "min        1.000000                0.448000        1.000000      0.000000\n",
       "25%     8554.250000                0.740000       23.000000      0.000000\n",
       "50%    16982.500000                0.903000       47.000000      0.000000\n",
       "75%    25169.750000                0.920000       88.000000      0.000000\n",
       "max    33380.000000                0.949000      336.000000      1.000000"
      ]
     },
     "execution_count": 8,
     "metadata": {},
     "output_type": "execute_result"
    }
   ],
   "source": [
    "train_data.describe()"
   ]
  },
  {
   "cell_type": "markdown",
   "metadata": {},
   "source": [
    "### Variable description"
   ]
  },
  {
   "cell_type": "markdown",
   "metadata": {},
   "source": [
    "1. enrollee_id : Unique ID for enrollee\n",
    "\n",
    "2. city : City code\n",
    "\n",
    "3. city_development_index : Developement index of the city (scaled)\n",
    "\n",
    "4. gender : Registered person gender (Male/Female)\n",
    "\n",
    "5. relevent_experience : Relevent experience\n",
    "\n",
    "6. enrolled_university : Type of university of the enrolee\n",
    "\n",
    "7. education_level : education level\n",
    "\n",
    "8. major_discipline : education discipline of enrollee\n",
    "\n",
    "9. experience : Total experience in years\n",
    "\n",
    "10. company_size : Number of employees in current employer's company\n",
    "\n",
    "11. company_type : Type of current employer\n",
    "\n",
    "12. last_new_job : Difference in years between previous job and current job\n",
    "\n",
    "13. training_hours : training hours completed\n",
    "\n",
    "14. target : 0 – Not looking for job change, 1 – Looking for a job change"
   ]
  },
  {
   "cell_type": "markdown",
   "metadata": {},
   "source": [
    "###  As most of the Data is Categorical we will plot Bar/Pie charts to visualize the Categorical Data"
   ]
  },
  {
   "cell_type": "code",
   "execution_count": 9,
   "metadata": {},
   "outputs": [],
   "source": [
    "# Function to Plot Bar Graph\n",
    "\n",
    "def plot_bar_graph (column, order=None):\n",
    "    x = train_data[column].value_counts().index\n",
    "    y = train_data[column].value_counts().values\n",
    "    sns.barplot(x, y, order=order)\n",
    "    \n",
    "# Funtion to Plot Pie Chart\n",
    "def plot_pie_chart(column, title=''):\n",
    "    values = train_data[column].value_counts().values\n",
    "    labels = train_data[column].value_counts().index\n",
    "    plt.figure(figsize=(6,6))\n",
    "    plt.title(title)\n",
    "    plt.pie(x=values, labels=labels, autopct='%1.2f%%')"
   ]
  },
  {
   "cell_type": "markdown",
   "metadata": {},
   "source": [
    "2.1. Pie Chart for Gender"
   ]
  },
  {
   "cell_type": "code",
   "execution_count": 10,
   "metadata": {},
   "outputs": [
    {
     "data": {
      "image/png": "[encoded data removed]",
      "text/plain": [
       "<Figure size 432x432 with 1 Axes>"
      ]
     },
     "metadata": {},
     "output_type": "display_data"
    }
   ],
   "source": [
    "plot_pie_chart('gender', title='Pie Chart For Gender')\n",
    "plt.show()"
   ]
  },
  {
   "cell_type": "markdown",
   "metadata": {},
   "source": [
    "As we can see, most of the cnadidates are Male"
   ]
  },
  {
   "cell_type": "markdown",
   "metadata": {},
   "source": [
    "2.2. Enrolled University"
   ]
  },
  {
   "cell_type": "code",
   "execution_count": 11,
   "metadata": {},
   "outputs": [
    {
     "data": {
      "image/png": "[encoded data removed]",
      "text/plain": [
       "<Figure size 432x432 with 1 Axes>"
      ]
     },
     "metadata": {},
     "output_type": "display_data"
    }
   ],
   "source": [
    "plot_pie_chart('enrolled_university', title='Pie Chart For Enrolled University')\n",
    "plt.show()"
   ]
  },
  {
   "cell_type": "markdown",
   "metadata": {},
   "source": [
    "We can see that most of the employes has no enrollment in the University"
   ]
  },
  {
   "cell_type": "markdown",
   "metadata": {},
   "source": [
    "2.3 Education level"
   ]
  },
  {
   "cell_type": "code",
   "execution_count": 12,
   "metadata": {},
   "outputs": [
    {
     "data": {
      "image/png": "[encoded data removed]",
      "text/plain": [
       "<Figure size 432x432 with 1 Axes>"
      ]
     },
     "metadata": {},
     "output_type": "display_data"
    }
   ],
   "source": [
    "plot_pie_chart('education_level', title='Pie Chart For Education Level')\n",
    "plt.show()"
   ]
  },
  {
   "cell_type": "markdown",
   "metadata": {},
   "source": [
    "We see the distribution of the education level feature within the data. It consists mostly of graduates."
   ]
  },
  {
   "cell_type": "markdown",
   "metadata": {},
   "source": [
    "2.4. Major discipline"
   ]
  },
  {
   "cell_type": "code",
   "execution_count": 13,
   "metadata": {},
   "outputs": [
    {
     "data": {
      "image/png": "[encoded data removed]",
      "text/plain": [
       "<Figure size 432x288 with 1 Axes>"
      ]
     },
     "metadata": {
      "needs_background": "light"
     },
     "output_type": "display_data"
    }
   ],
   "source": [
    "plot_bar_graph('major_discipline')\n",
    "plt.show()"
   ]
  },
  {
   "cell_type": "markdown",
   "metadata": {},
   "source": [
    "As we can see in the graph, most of the Candidates are from STEM."
   ]
  },
  {
   "cell_type": "markdown",
   "metadata": {},
   "source": [
    "2.5. Company size"
   ]
  },
  {
   "cell_type": "code",
   "execution_count": 14,
   "metadata": {},
   "outputs": [
    {
     "data": {
      "image/png": "[encoded data removed]",
      "text/plain": [
       "<Figure size 576x288 with 1 Axes>"
      ]
     },
     "metadata": {
      "needs_background": "light"
     },
     "output_type": "display_data"
    }
   ],
   "source": [
    "plt.figure(figsize=(8, 4))\n",
    "order = ['<10', '10/49', '50-99', '100-500', '500-999', '1000-4999', '5000-9999', '10000+']\n",
    "plot_bar_graph('company_size', order=order)\n",
    "plt.show()"
   ]
  },
  {
   "cell_type": "markdown",
   "metadata": {},
   "source": [
    "As we can see , most of the people are in the companies between 50 and 100 men, and 100 to 500 men."
   ]
  },
  {
   "cell_type": "markdown",
   "metadata": {},
   "source": [
    "2.6. Company type"
   ]
  },
  {
   "cell_type": "code",
   "execution_count": 15,
   "metadata": {},
   "outputs": [
    {
     "data": {
      "image/png": "[encoded data removed]",
      "text/plain": [
       "<Figure size 648x360 with 1 Axes>"
      ]
     },
     "metadata": {
      "needs_background": "light"
     },
     "output_type": "display_data"
    }
   ],
   "source": [
    "plt.figure(figsize=(9, 5))\n",
    "plot_bar_graph('company_type')\n",
    "plt.show()"
   ]
  },
  {
   "cell_type": "markdown",
   "metadata": {},
   "source": [
    "From above, we can see that the maximum number of people who are looking for new job are from private companies."
   ]
  },
  {
   "cell_type": "markdown",
   "metadata": {},
   "source": [
    "2.7. How many Jobs Candidates Worked before joining the current company"
   ]
  },
  {
   "cell_type": "code",
   "execution_count": 16,
   "metadata": {},
   "outputs": [
    {
     "data": {
      "image/png": "[encoded data removed]",
      "text/plain": [
       "<Figure size 648x360 with 1 Axes>"
      ]
     },
     "metadata": {
      "needs_background": "light"
     },
     "output_type": "display_data"
    }
   ],
   "source": [
    "plt.figure(figsize=(9, 5))\n",
    "order = ['never', '1', '2', '3', '4', '>4']\n",
    "plot_bar_graph('last_new_job', order=order)\n",
    "plt.show()"
   ]
  },
  {
   "cell_type": "markdown",
   "metadata": {},
   "source": [
    "the difference with their old job is usually 1 year."
   ]
  },
  {
   "cell_type": "markdown",
   "metadata": {},
   "source": [
    "2.8. Distribution of Training Hours"
   ]
  },
  {
   "cell_type": "code",
   "execution_count": 17,
   "metadata": {},
   "outputs": [
    {
     "data": {
      "text/plain": [
       "<AxesSubplot:xlabel='training_hours', ylabel='Count'>"
      ]
     },
     "execution_count": 17,
     "metadata": {},
     "output_type": "execute_result"
    },
    {
     "data": {
      "image/png": "[encoded data removed]",
      "text/plain": [
       "<Figure size 864x432 with 1 Axes>"
      ]
     },
     "metadata": {
      "needs_background": "light"
     },
     "output_type": "display_data"
    }
   ],
   "source": [
    "plt.figure(figsize=(12, 6))\n",
    "sns.histplot(train_data['training_hours'], kde=True)"
   ]
  },
  {
   "cell_type": "markdown",
   "metadata": {},
   "source": [
    "We can se that the most Candidates trained for 20 to 50 hours."
   ]
  },
  {
   "cell_type": "markdown",
   "metadata": {},
   "source": [
    "#  CLEANING DATA"
   ]
  },
  {
   "cell_type": "markdown",
   "metadata": {},
   "source": [
    "### Visualize missing values in dataset"
   ]
  },
  {
   "cell_type": "code",
   "execution_count": 18,
   "metadata": {},
   "outputs": [
    {
     "name": "stdout",
     "output_type": "stream",
     "text": [
      "(19158, 14)\n"
     ]
    },
    {
     "data": {
      "image/png": "[encoded data removed]",
      "text/plain": [
       "<Figure size 1800x720 with 2 Axes>"
      ]
     },
     "metadata": {
      "needs_background": "light"
     },
     "output_type": "display_data"
    }
   ],
   "source": [
    "import missingno as msno\n",
    "print(train_data.shape)\n",
    "msno.matrix(train_data);"
   ]
  },
  {
   "cell_type": "markdown",
   "metadata": {},
   "source": [
    "Using this matrix you can very quickly find the pattern of missingness in the dataset. In our case, the columns company_size and company_type have more or less similar pattern of missing values while gender and major_discipline shows a different pattern."
   ]
  },
  {
   "cell_type": "markdown",
   "metadata": {},
   "source": [
    "### Transforming data to required format"
   ]
  },
  {
   "cell_type": "code",
   "execution_count": 19,
   "metadata": {},
   "outputs": [],
   "source": [
    "def clean_experience(df):\n",
    "    for i in df[\"experience\"]:\n",
    "        if(i==\">20\"):\n",
    "            df[\"experience\"][df[\"experience\"]==i]=27\n",
    "        if(i == \"<1\"):\n",
    "            df[\"experience\"][df[\"experience\"]==i]=0\n",
    "clean_experience(train_data)\n",
    "clean_experience(test_data)\n",
    "\n",
    "train_data[\"experience\"] = train_data[\"experience\"].fillna(0)\n",
    "train_data[\"experience\"] = train_data['experience'].astype('int')\n",
    "test_data[\"experience\"] = test_data[\"experience\"].fillna(0)\n",
    "test_data[\"experience\"] = test_data['experience'].astype('int')"
   ]
  },
  {
   "cell_type": "markdown",
   "metadata": {},
   "source": [
    "### We will replace NAN Values  with \"Unknown\"."
   ]
  },
  {
   "cell_type": "code",
   "execution_count": 20,
   "metadata": {},
   "outputs": [],
   "source": [
    "def clean_NAN(df):\n",
    "    df[\"gender\"] = df[\"gender\"].fillna(\"Unknown\")\n",
    "    df[\"education_level\"]=df[\"education_level\"].fillna(\"Unknown\")\n",
    "    df[\"major_discipline\"].fillna(value=\"Unknown\", inplace=True)\n",
    "    df[\"experience\"] = df[\"experience\"].fillna(df[\"experience\"].mean())\n",
    "    df[\"company_type\"] = df[\"company_type\"].fillna(\"Unknown\")"
   ]
  },
  {
   "cell_type": "code",
   "execution_count": 21,
   "metadata": {},
   "outputs": [],
   "source": [
    "clean_NAN(train_data)\n",
    "clean_NAN(test_data)"
   ]
  },
  {
   "cell_type": "markdown",
   "metadata": {},
   "source": [
    "### Cleaning company_size to attain the required format and split them into min and max company_size."
   ]
  },
  {
   "cell_type": "code",
   "execution_count": 22,
   "metadata": {},
   "outputs": [],
   "source": [
    "def clean_company_size_1(df):\n",
    "    converted_list_1 = []\n",
    "    converted_list_2 = []\n",
    "    converted_list_3 = []\n",
    "    for i in df[\"company_size\"]:\n",
    "        if i == \"10/49\":\n",
    "            i = \"10-49\"\n",
    "            converted_list_1.append(i)\n",
    "        converted_list_1.append(i)\n",
    "        if i == \"<10\":\n",
    "            i = '1-9'\n",
    "            converted_list_2.append(i)\n",
    "        converted_list_2.append(i)\n",
    "        if i == \"10000+\":\n",
    "            i = '10000-20000'\n",
    "            converted_list_3.append(i)\n",
    "        converted_list_3.append(i)\n",
    "    df[\"company_size\"]=pd.Series(converted_list_1)\n",
    "    df[\"company_size\"]=pd.Series(converted_list_2)\n",
    "    df[\"company_size\"]=pd.Series(converted_list_3)\n",
    "    df[\"company_size\"]=df[\"company_size\"].fillna(\"0-0\")\n",
    "    new = df['company_size'].str.split(\"-\", n = 1, expand = True) \n",
    "    df['company_size_min']= new[0]\n",
    "    df['company_size_max']= new[1] \n",
    "    df[\"company_size_max\"] = df['company_size_max'].astype('int')\n",
    "    df[\"company_size_min\"] = df['company_size_min'].astype('int')\n",
    "\n",
    "clean_company_size_1(train_data)\n",
    "clean_company_size_1(test_data)"
   ]
  },
  {
   "cell_type": "code",
   "execution_count": 23,
   "metadata": {},
   "outputs": [],
   "source": [
    "def clean_last_new_job(df):\n",
    "    converted_list_1 = []\n",
    "    converted_list_2 = []\n",
    "    for i in df[\"last_new_job\"]:\n",
    "        if i == \"never\" or i == np.NaN:\n",
    "            i = 0\n",
    "            converted_list_1.append(i)\n",
    "        converted_list_1.append(i)\n",
    "        if i == \">4\":\n",
    "            i = 6\n",
    "            converted_list_2.append(i)\n",
    "        converted_list_2.append(i)\n",
    "    df[\"last_new_job\"]=pd.Series(converted_list_1)\n",
    "    df[\"last_new_job\"]=pd.Series(converted_list_2)\n",
    "    \n",
    "clean_last_new_job(train_data)\n",
    "clean_last_new_job(test_data)"
   ]
  },
  {
   "cell_type": "code",
   "execution_count": 24,
   "metadata": {},
   "outputs": [],
   "source": [
    "def clean_city(df):\n",
    "    converted_list_1 = []\n",
    "    for i in range(len(df[\"city\"])):\n",
    "        j = df[\"city\"][i].replace(\"city_\",\"\")\n",
    "        converted_list_1.append(j)\n",
    "    df[\"city\"]=pd.Series(converted_list_1)\n",
    "    \n",
    "clean_city(train_data)\n",
    "clean_city(test_data)"
   ]
  },
  {
   "cell_type": "code",
   "execution_count": 25,
   "metadata": {},
   "outputs": [],
   "source": [
    "def clean_relevent_experience(df):\n",
    "    converted_list_1 = []\n",
    "    converted_list_2 = []\n",
    "    for i in df[\"relevent_experience\"]:\n",
    "        if i == \"Has relevent experience\":\n",
    "            i = 1\n",
    "            converted_list_1.append(i)\n",
    "        converted_list_1.append(i)\n",
    "        if i == \"No relevent experience\":\n",
    "            i = 0\n",
    "            converted_list_2.append(i)\n",
    "        converted_list_2.append(i)\n",
    "    df[\"relevent_experience\"]=pd.Series(converted_list_1)\n",
    "    df[\"relevent_experience\"]=pd.Series(converted_list_2)\n",
    "    \n",
    "clean_relevent_experience(train_data)\n",
    "clean_relevent_experience(test_data)"
   ]
  },
  {
   "cell_type": "markdown",
   "metadata": {},
   "source": [
    "## Correlation Matrix Plot"
   ]
  },
  {
   "cell_type": "markdown",
   "metadata": {},
   "source": [
    "A correlation matrix is a tabular data representing the 'correlations' between pairs of variables in a given data. ... Each row and column represents a variable, and each value in this matrix is the correlation coefficient between the variables represented by the corresponding row and column."
   ]
  },
  {
   "cell_type": "code",
   "execution_count": 26,
   "metadata": {},
   "outputs": [
    {
     "data": {
      "image/png": "[encoded data removed]",
      "text/plain": [
       "<Figure size 936x720 with 1 Axes>"
      ]
     },
     "metadata": {
      "needs_background": "light"
     },
     "output_type": "display_data"
    }
   ],
   "source": [
    "matrix = np.triu(train_data.corr())\n",
    "plt.figure(figsize=(13, 10))\n",
    "sns.heatmap(train_data.corr(), annot = True, fmt=\".2f\", mask = matrix,\n",
    "            vmin = -1, vmax = 1, linewidths = 0.1, linecolor = 'white', cbar = False)\n",
    "plt.show()"
   ]
  },
  {
   "cell_type": "markdown",
   "metadata": {},
   "source": [
    "### One Hot encoding "
   ]
  },
  {
   "cell_type": "markdown",
   "metadata": {},
   "source": [
    "#### (process by which categorical variables are converted into a form that could be provided to ML algorithms to do a better job in prediction.)"
   ]
  },
  {
   "cell_type": "code",
   "execution_count": 27,
   "metadata": {},
   "outputs": [],
   "source": [
    "def one_hot_encoding(df):\n",
    "    enrolled_dummies = pd.get_dummies(df[\"enrolled_university\"], dummy_na=True)\n",
    "    gender_dummies = pd.get_dummies(df[\"gender\"], dummy_na=True)\n",
    "    education_dummies = pd.get_dummies(df[\"education_level\"],dummy_na=True)\n",
    "    stream_dummies = pd.get_dummies(df[\"major_discipline\"],dummy_na=True)\n",
    "    company_dummies = pd.get_dummies(df[\"company_type\"],dummy_na=True)\n",
    "    df[\"Type_no_enrollment\"] = enrolled_dummies[\"no_enrollment\"]\n",
    "    df[\"Type_Full_time_course\"] = enrolled_dummies[\"Full time course\"]\n",
    "    df[\"Type_Part_time_course\"]=enrolled_dummies[\"Part time course\"]\n",
    "    df[\"Gender_Male\"] = gender_dummies[\"Male\"]\n",
    "    df[\"Gender_Female\"] =gender_dummies[\"Female\"]\n",
    "    df[\"Gender_Unknown\"]=gender_dummies[\"Unknown\"]\n",
    "    df[\"Gender_Other\"]=gender_dummies[\"Other\"]\n",
    "    df[\"Education_Graduate\"] = education_dummies[\"Graduate\"]\n",
    "    df[\"Education_Masters\"] = education_dummies[\"Masters\"]\n",
    "    df[\"Education_High_School\"] = education_dummies[\"High School\"]\n",
    "    df[\"Education_Primary_School\"] = education_dummies[\"Primary School\"]\n",
    "    df[\"Education_Phd\"] = education_dummies[\"Phd\"]\n",
    "    df[\"Education_Unknown\"] = education_dummies[\"Unknown\"]\n",
    "    df[\"Stream_STEM\"] = stream_dummies[\"STEM\"]\n",
    "    df[\"Stream_Humanities\"] = stream_dummies[\"Humanities\"]\n",
    "    df[\"Stream_Other\"] = stream_dummies[\"Other\"]\n",
    "    df[\"Stream_Business_Degree\"] = stream_dummies[\"Business Degree\"]\n",
    "    df[\"Stream_Arts\"] = stream_dummies[\"Arts\"]\n",
    "    df[\"Stream_No_Major\"] = stream_dummies[\"No Major\"]\n",
    "    df[\"Stream_Unknown\"] = stream_dummies[\"Unknown\"]\n",
    "    df[\"Company_Pvt_Ltd\"] = company_dummies[\"Pvt Ltd\"]\n",
    "    df[\"Company_Funded_Startup\"] = company_dummies[\"Funded Startup\"]\n",
    "    df[\"Company_Public_Sector\"]=company_dummies[\"Public Sector\"]\n",
    "    df[\"Company_Early_Stage_Startup\"] = company_dummies[\"Early Stage Startup\"]\n",
    "    df[\"Company_NGO\"] = company_dummies[\"NGO\"]\n",
    "    df[\"Company_Other\"] = company_dummies[\"Other\"]\n",
    "    df[\"Company_Unknown\"] = company_dummies[\"Unknown\"]\n",
    "one_hot_encoding(train_data)\n",
    "one_hot_encoding(test_data)"
   ]
  },
  {
   "cell_type": "code",
   "execution_count": 28,
   "metadata": {},
   "outputs": [],
   "source": [
    "train_data = train_data.dropna(subset=['enrolled_university',\"last_new_job\"])\n",
    "test_data = test_data.dropna(subset=['enrolled_university',\"last_new_job\"])"
   ]
  },
  {
   "cell_type": "markdown",
   "metadata": {},
   "source": [
    "### Replacing the NaN values with the average (mean)"
   ]
  },
  {
   "cell_type": "code",
   "execution_count": 29,
   "metadata": {},
   "outputs": [],
   "source": [
    "def clean_company_size_2(df):\n",
    "    converted_list_1 = []\n",
    "    converted_list_2 = []\n",
    "    for i in df[\"company_size_min\"]:\n",
    "        if i == 0:\n",
    "            i = int(df[\"company_size_min\"].mean())\n",
    "            converted_list_1.append(i)\n",
    "        converted_list_1.append(i)\n",
    "    for i in df[\"company_size_max\"]:\n",
    "        if i == 0:\n",
    "            i = int(df[\"company_size_max\"].mean())\n",
    "            converted_list_2.append(i)\n",
    "        converted_list_2.append(i)\n",
    "    df[\"company_size_min\"]=pd.Series(converted_list_1)\n",
    "    df[\"company_size_max\"]=pd.Series(converted_list_2)\n",
    "    \n",
    "    train_data[\"company_size_min\"] = train_data[\"company_size_min\"].fillna(int(train_data[\"company_size_min\"].mean()))\n",
    "    train_data[\"company_size_max\"] = train_data[\"company_size_max\"].fillna(int(train_data[\"company_size_max\"].mean()))\n",
    "\n",
    "    test_data[\"company_size_min\"] = test_data[\"company_size_min\"].fillna(int(test_data[\"company_size_min\"].mean()))\n",
    "    test_data[\"company_size_max\"] = test_data[\"company_size_max\"].fillna(int(test_data[\"company_size_max\"].mean()))\n",
    "\n",
    "clean_company_size_2(test_data)\n",
    "clean_company_size_2(train_data)"
   ]
  },
  {
   "cell_type": "code",
   "execution_count": 30,
   "metadata": {},
   "outputs": [
    {
     "data": {
      "text/plain": [
       "enrollee_id                    0\n",
       "city                           0\n",
       "city_development_index         0\n",
       "gender                         0\n",
       "relevent_experience            0\n",
       "enrolled_university            0\n",
       "education_level                0\n",
       "major_discipline               0\n",
       "experience                     0\n",
       "company_size                   0\n",
       "company_type                   0\n",
       "last_new_job                   0\n",
       "training_hours                 0\n",
       "company_size_min               0\n",
       "company_size_max               0\n",
       "Type_no_enrollment             0\n",
       "Type_Full_time_course          0\n",
       "Type_Part_time_course          0\n",
       "Gender_Male                    0\n",
       "Gender_Female                  0\n",
       "Gender_Unknown                 0\n",
       "Gender_Other                   0\n",
       "Education_Graduate             0\n",
       "Education_Masters              0\n",
       "Education_High_School          0\n",
       "Education_Primary_School       0\n",
       "Education_Phd                  0\n",
       "Education_Unknown              0\n",
       "Stream_STEM                    0\n",
       "Stream_Humanities              0\n",
       "Stream_Other                   0\n",
       "Stream_Business_Degree         0\n",
       "Stream_Arts                    0\n",
       "Stream_No_Major                0\n",
       "Stream_Unknown                 0\n",
       "Company_Pvt_Ltd                0\n",
       "Company_Funded_Startup         0\n",
       "Company_Public_Sector          0\n",
       "Company_Early_Stage_Startup    0\n",
       "Company_NGO                    0\n",
       "Company_Other                  0\n",
       "Company_Unknown                0\n",
       "dtype: int64"
      ]
     },
     "execution_count": 30,
     "metadata": {},
     "output_type": "execute_result"
    }
   ],
   "source": [
    "test_data.isnull().sum()"
   ]
  },
  {
   "cell_type": "markdown",
   "metadata": {},
   "source": [
    "### Cleaning successfully done !!😎"
   ]
  },
  {
   "cell_type": "markdown",
   "metadata": {},
   "source": [
    "## Checking is data unbalanaced:"
   ]
  },
  {
   "cell_type": "code",
   "execution_count": 31,
   "metadata": {},
   "outputs": [
    {
     "data": {
      "image/png": "[encoded data removed]",
      "text/plain": [
       "<Figure size 432x288 with 1 Axes>"
      ]
     },
     "metadata": {
      "needs_background": "light"
     },
     "output_type": "display_data"
    }
   ],
   "source": [
    "plt.figure(figsize=(6, 4))\n",
    "sns.barplot(train_data.target.value_counts().index.astype(int),\n",
    "            train_data.target.value_counts().values, palette='bwr')\n",
    "plt.ylabel('Number of rows', fontsize=12)\n",
    "plt.xlabel('Target', fontsize=12)\n",
    "plt.show();"
   ]
  },
  {
   "cell_type": "markdown",
   "metadata": {},
   "source": [
    "An imbalanced classification problem is an example of a classification problem where the distribution of examples across the known classes is biased or skewed.\n",
    "\n",
    "Imbalanced classifications pose a challenge for predictive modeling as most of the machine learning algorithms used for classification were designed around the assumption of an equal number of examples for each class. This results in models that have poor predictive performance, specifically for the minority class."
   ]
  },
  {
   "cell_type": "code",
   "execution_count": 32,
   "metadata": {},
   "outputs": [],
   "source": [
    "test_data.index = np.arange(0,len(test_data))"
   ]
  },
  {
   "cell_type": "code",
   "execution_count": 33,
   "metadata": {},
   "outputs": [
    {
     "data": {
      "text/html": [
       "<div>\n",
       "<style scoped>\n",
       "    .dataframe tbody tr th:only-of-type {\n",
       "        vertical-align: middle;\n",
       "    }\n",
       "\n",
       "    .dataframe tbody tr th {\n",
       "        vertical-align: top;\n",
       "    }\n",
       "\n",
       "    .dataframe thead th {\n",
       "        text-align: right;\n",
       "    }\n",
       "</style>\n",
       "<table border=\"1\" class=\"dataframe\">\n",
       "  <thead>\n",
       "    <tr style=\"text-align: right;\">\n",
       "      <th></th>\n",
       "      <th>enrollee_id</th>\n",
       "      <th>city</th>\n",
       "      <th>city_development_index</th>\n",
       "      <th>gender</th>\n",
       "      <th>relevent_experience</th>\n",
       "      <th>enrolled_university</th>\n",
       "      <th>education_level</th>\n",
       "      <th>major_discipline</th>\n",
       "      <th>experience</th>\n",
       "      <th>company_size</th>\n",
       "      <th>...</th>\n",
       "      <th>Stream_Arts</th>\n",
       "      <th>Stream_No_Major</th>\n",
       "      <th>Stream_Unknown</th>\n",
       "      <th>Company_Pvt_Ltd</th>\n",
       "      <th>Company_Funded_Startup</th>\n",
       "      <th>Company_Public_Sector</th>\n",
       "      <th>Company_Early_Stage_Startup</th>\n",
       "      <th>Company_NGO</th>\n",
       "      <th>Company_Other</th>\n",
       "      <th>Company_Unknown</th>\n",
       "    </tr>\n",
       "  </thead>\n",
       "  <tbody>\n",
       "    <tr>\n",
       "      <th>0</th>\n",
       "      <td>32403</td>\n",
       "      <td>41</td>\n",
       "      <td>0.827</td>\n",
       "      <td>Male</td>\n",
       "      <td>1</td>\n",
       "      <td>Full time course</td>\n",
       "      <td>Graduate</td>\n",
       "      <td>STEM</td>\n",
       "      <td>9</td>\n",
       "      <td>1-9</td>\n",
       "      <td>...</td>\n",
       "      <td>0</td>\n",
       "      <td>0</td>\n",
       "      <td>0</td>\n",
       "      <td>0</td>\n",
       "      <td>0</td>\n",
       "      <td>0</td>\n",
       "      <td>0</td>\n",
       "      <td>0</td>\n",
       "      <td>0</td>\n",
       "      <td>1</td>\n",
       "    </tr>\n",
       "    <tr>\n",
       "      <th>1</th>\n",
       "      <td>9858</td>\n",
       "      <td>103</td>\n",
       "      <td>0.920</td>\n",
       "      <td>Female</td>\n",
       "      <td>1</td>\n",
       "      <td>no_enrollment</td>\n",
       "      <td>Graduate</td>\n",
       "      <td>STEM</td>\n",
       "      <td>5</td>\n",
       "      <td>0-0</td>\n",
       "      <td>...</td>\n",
       "      <td>0</td>\n",
       "      <td>0</td>\n",
       "      <td>0</td>\n",
       "      <td>1</td>\n",
       "      <td>0</td>\n",
       "      <td>0</td>\n",
       "      <td>0</td>\n",
       "      <td>0</td>\n",
       "      <td>0</td>\n",
       "      <td>0</td>\n",
       "    </tr>\n",
       "    <tr>\n",
       "      <th>2</th>\n",
       "      <td>31806</td>\n",
       "      <td>21</td>\n",
       "      <td>0.624</td>\n",
       "      <td>Male</td>\n",
       "      <td>0</td>\n",
       "      <td>no_enrollment</td>\n",
       "      <td>High School</td>\n",
       "      <td>Unknown</td>\n",
       "      <td>0</td>\n",
       "      <td>0-0</td>\n",
       "      <td>...</td>\n",
       "      <td>0</td>\n",
       "      <td>0</td>\n",
       "      <td>1</td>\n",
       "      <td>1</td>\n",
       "      <td>0</td>\n",
       "      <td>0</td>\n",
       "      <td>0</td>\n",
       "      <td>0</td>\n",
       "      <td>0</td>\n",
       "      <td>0</td>\n",
       "    </tr>\n",
       "    <tr>\n",
       "      <th>3</th>\n",
       "      <td>27385</td>\n",
       "      <td>13</td>\n",
       "      <td>0.827</td>\n",
       "      <td>Male</td>\n",
       "      <td>0</td>\n",
       "      <td>no_enrollment</td>\n",
       "      <td>Masters</td>\n",
       "      <td>STEM</td>\n",
       "      <td>11</td>\n",
       "      <td>10-49</td>\n",
       "      <td>...</td>\n",
       "      <td>0</td>\n",
       "      <td>0</td>\n",
       "      <td>0</td>\n",
       "      <td>1</td>\n",
       "      <td>0</td>\n",
       "      <td>0</td>\n",
       "      <td>0</td>\n",
       "      <td>0</td>\n",
       "      <td>0</td>\n",
       "      <td>0</td>\n",
       "    </tr>\n",
       "    <tr>\n",
       "      <th>4</th>\n",
       "      <td>27724</td>\n",
       "      <td>103</td>\n",
       "      <td>0.920</td>\n",
       "      <td>Male</td>\n",
       "      <td>1</td>\n",
       "      <td>no_enrollment</td>\n",
       "      <td>Graduate</td>\n",
       "      <td>STEM</td>\n",
       "      <td>27</td>\n",
       "      <td>10000-20000</td>\n",
       "      <td>...</td>\n",
       "      <td>0</td>\n",
       "      <td>0</td>\n",
       "      <td>0</td>\n",
       "      <td>1</td>\n",
       "      <td>0</td>\n",
       "      <td>0</td>\n",
       "      <td>0</td>\n",
       "      <td>0</td>\n",
       "      <td>0</td>\n",
       "      <td>0</td>\n",
       "    </tr>\n",
       "    <tr>\n",
       "      <th>...</th>\n",
       "      <td>...</td>\n",
       "      <td>...</td>\n",
       "      <td>...</td>\n",
       "      <td>...</td>\n",
       "      <td>...</td>\n",
       "      <td>...</td>\n",
       "      <td>...</td>\n",
       "      <td>...</td>\n",
       "      <td>...</td>\n",
       "      <td>...</td>\n",
       "      <td>...</td>\n",
       "      <td>...</td>\n",
       "      <td>...</td>\n",
       "      <td>...</td>\n",
       "      <td>...</td>\n",
       "      <td>...</td>\n",
       "      <td>...</td>\n",
       "      <td>...</td>\n",
       "      <td>...</td>\n",
       "      <td>...</td>\n",
       "      <td>...</td>\n",
       "    </tr>\n",
       "    <tr>\n",
       "      <th>2058</th>\n",
       "      <td>1289</td>\n",
       "      <td>103</td>\n",
       "      <td>0.920</td>\n",
       "      <td>Male</td>\n",
       "      <td>0</td>\n",
       "      <td>no_enrollment</td>\n",
       "      <td>Graduate</td>\n",
       "      <td>Humanities</td>\n",
       "      <td>16</td>\n",
       "      <td>1-9</td>\n",
       "      <td>...</td>\n",
       "      <td>0</td>\n",
       "      <td>0</td>\n",
       "      <td>0</td>\n",
       "      <td>0</td>\n",
       "      <td>0</td>\n",
       "      <td>1</td>\n",
       "      <td>0</td>\n",
       "      <td>0</td>\n",
       "      <td>0</td>\n",
       "      <td>0</td>\n",
       "    </tr>\n",
       "    <tr>\n",
       "      <th>2059</th>\n",
       "      <td>195</td>\n",
       "      <td>136</td>\n",
       "      <td>0.897</td>\n",
       "      <td>Male</td>\n",
       "      <td>0</td>\n",
       "      <td>no_enrollment</td>\n",
       "      <td>Masters</td>\n",
       "      <td>STEM</td>\n",
       "      <td>18</td>\n",
       "      <td>500-999</td>\n",
       "      <td>...</td>\n",
       "      <td>0</td>\n",
       "      <td>0</td>\n",
       "      <td>0</td>\n",
       "      <td>0</td>\n",
       "      <td>0</td>\n",
       "      <td>0</td>\n",
       "      <td>0</td>\n",
       "      <td>0</td>\n",
       "      <td>0</td>\n",
       "      <td>1</td>\n",
       "    </tr>\n",
       "    <tr>\n",
       "      <th>2060</th>\n",
       "      <td>31762</td>\n",
       "      <td>100</td>\n",
       "      <td>0.887</td>\n",
       "      <td>Male</td>\n",
       "      <td>0</td>\n",
       "      <td>no_enrollment</td>\n",
       "      <td>Primary School</td>\n",
       "      <td>Unknown</td>\n",
       "      <td>3</td>\n",
       "      <td>50-99</td>\n",
       "      <td>...</td>\n",
       "      <td>0</td>\n",
       "      <td>0</td>\n",
       "      <td>1</td>\n",
       "      <td>1</td>\n",
       "      <td>0</td>\n",
       "      <td>0</td>\n",
       "      <td>0</td>\n",
       "      <td>0</td>\n",
       "      <td>0</td>\n",
       "      <td>0</td>\n",
       "    </tr>\n",
       "    <tr>\n",
       "      <th>2061</th>\n",
       "      <td>7873</td>\n",
       "      <td>102</td>\n",
       "      <td>0.804</td>\n",
       "      <td>Male</td>\n",
       "      <td>0</td>\n",
       "      <td>Full time course</td>\n",
       "      <td>High School</td>\n",
       "      <td>Unknown</td>\n",
       "      <td>7</td>\n",
       "      <td>50-99</td>\n",
       "      <td>...</td>\n",
       "      <td>0</td>\n",
       "      <td>0</td>\n",
       "      <td>1</td>\n",
       "      <td>0</td>\n",
       "      <td>0</td>\n",
       "      <td>1</td>\n",
       "      <td>0</td>\n",
       "      <td>0</td>\n",
       "      <td>0</td>\n",
       "      <td>0</td>\n",
       "    </tr>\n",
       "    <tr>\n",
       "      <th>2062</th>\n",
       "      <td>12215</td>\n",
       "      <td>102</td>\n",
       "      <td>0.804</td>\n",
       "      <td>Male</td>\n",
       "      <td>1</td>\n",
       "      <td>no_enrollment</td>\n",
       "      <td>Masters</td>\n",
       "      <td>STEM</td>\n",
       "      <td>15</td>\n",
       "      <td>50-99</td>\n",
       "      <td>...</td>\n",
       "      <td>0</td>\n",
       "      <td>0</td>\n",
       "      <td>0</td>\n",
       "      <td>1</td>\n",
       "      <td>0</td>\n",
       "      <td>0</td>\n",
       "      <td>0</td>\n",
       "      <td>0</td>\n",
       "      <td>0</td>\n",
       "      <td>0</td>\n",
       "    </tr>\n",
       "  </tbody>\n",
       "</table>\n",
       "<p>2063 rows × 42 columns</p>\n",
       "</div>"
      ],
      "text/plain": [
       "      enrollee_id city  city_development_index  gender  relevent_experience  \\\n",
       "0           32403   41                   0.827    Male                    1   \n",
       "1            9858  103                   0.920  Female                    1   \n",
       "2           31806   21                   0.624    Male                    0   \n",
       "3           27385   13                   0.827    Male                    0   \n",
       "4           27724  103                   0.920    Male                    1   \n",
       "...           ...  ...                     ...     ...                  ...   \n",
       "2058         1289  103                   0.920    Male                    0   \n",
       "2059          195  136                   0.897    Male                    0   \n",
       "2060        31762  100                   0.887    Male                    0   \n",
       "2061         7873  102                   0.804    Male                    0   \n",
       "2062        12215  102                   0.804    Male                    1   \n",
       "\n",
       "     enrolled_university education_level major_discipline  experience  \\\n",
       "0       Full time course        Graduate             STEM           9   \n",
       "1          no_enrollment        Graduate             STEM           5   \n",
       "2          no_enrollment     High School          Unknown           0   \n",
       "3          no_enrollment         Masters             STEM          11   \n",
       "4          no_enrollment        Graduate             STEM          27   \n",
       "...                  ...             ...              ...         ...   \n",
       "2058       no_enrollment        Graduate       Humanities          16   \n",
       "2059       no_enrollment         Masters             STEM          18   \n",
       "2060       no_enrollment  Primary School          Unknown           3   \n",
       "2061    Full time course     High School          Unknown           7   \n",
       "2062       no_enrollment         Masters             STEM          15   \n",
       "\n",
       "     company_size  ... Stream_Arts Stream_No_Major  Stream_Unknown  \\\n",
       "0             1-9  ...           0               0               0   \n",
       "1             0-0  ...           0               0               0   \n",
       "2             0-0  ...           0               0               1   \n",
       "3           10-49  ...           0               0               0   \n",
       "4     10000-20000  ...           0               0               0   \n",
       "...           ...  ...         ...             ...             ...   \n",
       "2058          1-9  ...           0               0               0   \n",
       "2059      500-999  ...           0               0               0   \n",
       "2060        50-99  ...           0               0               1   \n",
       "2061        50-99  ...           0               0               1   \n",
       "2062        50-99  ...           0               0               0   \n",
       "\n",
       "      Company_Pvt_Ltd  Company_Funded_Startup  Company_Public_Sector  \\\n",
       "0                   0                       0                      0   \n",
       "1                   1                       0                      0   \n",
       "2                   1                       0                      0   \n",
       "3                   1                       0                      0   \n",
       "4                   1                       0                      0   \n",
       "...               ...                     ...                    ...   \n",
       "2058                0                       0                      1   \n",
       "2059                0                       0                      0   \n",
       "2060                1                       0                      0   \n",
       "2061                0                       0                      1   \n",
       "2062                1                       0                      0   \n",
       "\n",
       "      Company_Early_Stage_Startup  Company_NGO  Company_Other  Company_Unknown  \n",
       "0                               0            0              0                1  \n",
       "1                               0            0              0                0  \n",
       "2                               0            0              0                0  \n",
       "3                               0            0              0                0  \n",
       "4                               0            0              0                0  \n",
       "...                           ...          ...            ...              ...  \n",
       "2058                            0            0              0                0  \n",
       "2059                            0            0              0                1  \n",
       "2060                            0            0              0                0  \n",
       "2061                            0            0              0                0  \n",
       "2062                            0            0              0                0  \n",
       "\n",
       "[2063 rows x 42 columns]"
      ]
     },
     "execution_count": 33,
     "metadata": {},
     "output_type": "execute_result"
    }
   ],
   "source": [
    "test_data_copy = test_data.copy()\n",
    "test_data"
   ]
  },
  {
   "cell_type": "markdown",
   "metadata": {},
   "source": [
    "## Create a new dataset with the selected cleaned features"
   ]
  },
  {
   "cell_type": "code",
   "execution_count": 34,
   "metadata": {},
   "outputs": [],
   "source": [
    "train_data = train_data.drop(['enrollee_id','gender','enrolled_university','education_level','major_discipline','company_type','company_size'],axis=1)\n",
    "test_data = test_data.drop(['enrollee_id','gender','enrolled_university','education_level','major_discipline','company_type',\"company_size\"],axis=1)"
   ]
  },
  {
   "cell_type": "code",
   "execution_count": 35,
   "metadata": {},
   "outputs": [],
   "source": [
    "X = train_data.drop(\"target\", axis=1)\n",
    "Y = pd.DataFrame(train_data[\"target\"])"
   ]
  },
  {
   "cell_type": "markdown",
   "metadata": {},
   "source": [
    "### Data Upscaling using SMOTE technique"
   ]
  },
  {
   "cell_type": "markdown",
   "metadata": {},
   "source": [
    "A simple way to generate synthetic samples is to randomly sample the attributes from instances in the minority class.\n",
    "From this we can clearly see that the target 0 is in majority which will effect our model so we will use SMOTE (Synthetic Minority Over-sampling Technique) which will help us to create more synthetic data for the minority class 1."
   ]
  },
  {
   "cell_type": "code",
   "execution_count": 36,
   "metadata": {},
   "outputs": [],
   "source": [
    "smote = SMOTE()\n",
    "X, Y = smote.fit_resample(X, Y)"
   ]
  },
  {
   "cell_type": "code",
   "execution_count": 37,
   "metadata": {},
   "outputs": [
    {
     "data": {
      "text/html": [
       "<div>\n",
       "<style scoped>\n",
       "    .dataframe tbody tr th:only-of-type {\n",
       "        vertical-align: middle;\n",
       "    }\n",
       "\n",
       "    .dataframe tbody tr th {\n",
       "        vertical-align: top;\n",
       "    }\n",
       "\n",
       "    .dataframe thead th {\n",
       "        text-align: right;\n",
       "    }\n",
       "</style>\n",
       "<table border=\"1\" class=\"dataframe\">\n",
       "  <thead>\n",
       "    <tr style=\"text-align: right;\">\n",
       "      <th></th>\n",
       "      <th>city</th>\n",
       "      <th>city_development_index</th>\n",
       "      <th>relevent_experience</th>\n",
       "      <th>experience</th>\n",
       "      <th>last_new_job</th>\n",
       "      <th>training_hours</th>\n",
       "      <th>company_size_min</th>\n",
       "      <th>company_size_max</th>\n",
       "      <th>Type_no_enrollment</th>\n",
       "      <th>Type_Full_time_course</th>\n",
       "      <th>...</th>\n",
       "      <th>Stream_Arts</th>\n",
       "      <th>Stream_No_Major</th>\n",
       "      <th>Stream_Unknown</th>\n",
       "      <th>Company_Pvt_Ltd</th>\n",
       "      <th>Company_Funded_Startup</th>\n",
       "      <th>Company_Public_Sector</th>\n",
       "      <th>Company_Early_Stage_Startup</th>\n",
       "      <th>Company_NGO</th>\n",
       "      <th>Company_Other</th>\n",
       "      <th>Company_Unknown</th>\n",
       "    </tr>\n",
       "  </thead>\n",
       "  <tbody>\n",
       "    <tr>\n",
       "      <th>0</th>\n",
       "      <td>103</td>\n",
       "      <td>0.920000</td>\n",
       "      <td>1</td>\n",
       "      <td>27</td>\n",
       "      <td>1</td>\n",
       "      <td>36</td>\n",
       "      <td>2123</td>\n",
       "      <td>4474</td>\n",
       "      <td>1</td>\n",
       "      <td>0</td>\n",
       "      <td>...</td>\n",
       "      <td>0</td>\n",
       "      <td>0</td>\n",
       "      <td>0</td>\n",
       "      <td>0</td>\n",
       "      <td>0</td>\n",
       "      <td>0</td>\n",
       "      <td>0</td>\n",
       "      <td>0</td>\n",
       "      <td>0</td>\n",
       "      <td>1</td>\n",
       "    </tr>\n",
       "    <tr>\n",
       "      <th>1</th>\n",
       "      <td>40</td>\n",
       "      <td>0.776000</td>\n",
       "      <td>0</td>\n",
       "      <td>15</td>\n",
       "      <td>6</td>\n",
       "      <td>47</td>\n",
       "      <td>2123</td>\n",
       "      <td>4474</td>\n",
       "      <td>1</td>\n",
       "      <td>0</td>\n",
       "      <td>...</td>\n",
       "      <td>0</td>\n",
       "      <td>0</td>\n",
       "      <td>0</td>\n",
       "      <td>1</td>\n",
       "      <td>0</td>\n",
       "      <td>0</td>\n",
       "      <td>0</td>\n",
       "      <td>0</td>\n",
       "      <td>0</td>\n",
       "      <td>0</td>\n",
       "    </tr>\n",
       "    <tr>\n",
       "      <th>2</th>\n",
       "      <td>21</td>\n",
       "      <td>0.624000</td>\n",
       "      <td>0</td>\n",
       "      <td>5</td>\n",
       "      <td>6</td>\n",
       "      <td>83</td>\n",
       "      <td>50</td>\n",
       "      <td>99</td>\n",
       "      <td>0</td>\n",
       "      <td>1</td>\n",
       "      <td>...</td>\n",
       "      <td>0</td>\n",
       "      <td>0</td>\n",
       "      <td>0</td>\n",
       "      <td>0</td>\n",
       "      <td>0</td>\n",
       "      <td>0</td>\n",
       "      <td>0</td>\n",
       "      <td>0</td>\n",
       "      <td>0</td>\n",
       "      <td>1</td>\n",
       "    </tr>\n",
       "    <tr>\n",
       "      <th>3</th>\n",
       "      <td>162</td>\n",
       "      <td>0.767000</td>\n",
       "      <td>0</td>\n",
       "      <td>27</td>\n",
       "      <td>0</td>\n",
       "      <td>8</td>\n",
       "      <td>2123</td>\n",
       "      <td>4474</td>\n",
       "      <td>1</td>\n",
       "      <td>0</td>\n",
       "      <td>...</td>\n",
       "      <td>0</td>\n",
       "      <td>0</td>\n",
       "      <td>0</td>\n",
       "      <td>0</td>\n",
       "      <td>1</td>\n",
       "      <td>0</td>\n",
       "      <td>0</td>\n",
       "      <td>0</td>\n",
       "      <td>0</td>\n",
       "      <td>0</td>\n",
       "    </tr>\n",
       "    <tr>\n",
       "      <th>4</th>\n",
       "      <td>176</td>\n",
       "      <td>0.764000</td>\n",
       "      <td>0</td>\n",
       "      <td>11</td>\n",
       "      <td>4</td>\n",
       "      <td>24</td>\n",
       "      <td>50</td>\n",
       "      <td>99</td>\n",
       "      <td>0</td>\n",
       "      <td>0</td>\n",
       "      <td>...</td>\n",
       "      <td>0</td>\n",
       "      <td>0</td>\n",
       "      <td>0</td>\n",
       "      <td>0</td>\n",
       "      <td>0</td>\n",
       "      <td>0</td>\n",
       "      <td>0</td>\n",
       "      <td>0</td>\n",
       "      <td>0</td>\n",
       "      <td>1</td>\n",
       "    </tr>\n",
       "    <tr>\n",
       "      <th>...</th>\n",
       "      <td>...</td>\n",
       "      <td>...</td>\n",
       "      <td>...</td>\n",
       "      <td>...</td>\n",
       "      <td>...</td>\n",
       "      <td>...</td>\n",
       "      <td>...</td>\n",
       "      <td>...</td>\n",
       "      <td>...</td>\n",
       "      <td>...</td>\n",
       "      <td>...</td>\n",
       "      <td>...</td>\n",
       "      <td>...</td>\n",
       "      <td>...</td>\n",
       "      <td>...</td>\n",
       "      <td>...</td>\n",
       "      <td>...</td>\n",
       "      <td>...</td>\n",
       "      <td>...</td>\n",
       "      <td>...</td>\n",
       "      <td>...</td>\n",
       "    </tr>\n",
       "    <tr>\n",
       "      <th>27701</th>\n",
       "      <td>21</td>\n",
       "      <td>0.624000</td>\n",
       "      <td>1</td>\n",
       "      <td>0</td>\n",
       "      <td>1.74684</td>\n",
       "      <td>35</td>\n",
       "      <td>50</td>\n",
       "      <td>99</td>\n",
       "      <td>0</td>\n",
       "      <td>0</td>\n",
       "      <td>...</td>\n",
       "      <td>0</td>\n",
       "      <td>0</td>\n",
       "      <td>0</td>\n",
       "      <td>0</td>\n",
       "      <td>0</td>\n",
       "      <td>0</td>\n",
       "      <td>0</td>\n",
       "      <td>0</td>\n",
       "      <td>0</td>\n",
       "      <td>0</td>\n",
       "    </tr>\n",
       "    <tr>\n",
       "      <th>27702</th>\n",
       "      <td>97.8332</td>\n",
       "      <td>0.679527</td>\n",
       "      <td>0</td>\n",
       "      <td>4</td>\n",
       "      <td>0</td>\n",
       "      <td>28</td>\n",
       "      <td>1000</td>\n",
       "      <td>4999</td>\n",
       "      <td>0</td>\n",
       "      <td>0</td>\n",
       "      <td>...</td>\n",
       "      <td>0</td>\n",
       "      <td>0</td>\n",
       "      <td>0</td>\n",
       "      <td>0</td>\n",
       "      <td>0</td>\n",
       "      <td>0</td>\n",
       "      <td>0</td>\n",
       "      <td>0</td>\n",
       "      <td>0</td>\n",
       "      <td>1</td>\n",
       "    </tr>\n",
       "    <tr>\n",
       "      <th>27703</th>\n",
       "      <td>21</td>\n",
       "      <td>0.624000</td>\n",
       "      <td>0</td>\n",
       "      <td>12</td>\n",
       "      <td>0</td>\n",
       "      <td>46</td>\n",
       "      <td>10000</td>\n",
       "      <td>20000</td>\n",
       "      <td>1</td>\n",
       "      <td>0</td>\n",
       "      <td>...</td>\n",
       "      <td>0</td>\n",
       "      <td>0</td>\n",
       "      <td>0</td>\n",
       "      <td>0</td>\n",
       "      <td>0</td>\n",
       "      <td>0</td>\n",
       "      <td>0</td>\n",
       "      <td>0</td>\n",
       "      <td>0</td>\n",
       "      <td>0</td>\n",
       "    </tr>\n",
       "    <tr>\n",
       "      <th>27704</th>\n",
       "      <td>21</td>\n",
       "      <td>0.624000</td>\n",
       "      <td>1</td>\n",
       "      <td>1</td>\n",
       "      <td>3.48759</td>\n",
       "      <td>196</td>\n",
       "      <td>10000</td>\n",
       "      <td>20000</td>\n",
       "      <td>1</td>\n",
       "      <td>0</td>\n",
       "      <td>...</td>\n",
       "      <td>0</td>\n",
       "      <td>0</td>\n",
       "      <td>0</td>\n",
       "      <td>0</td>\n",
       "      <td>0</td>\n",
       "      <td>0</td>\n",
       "      <td>0</td>\n",
       "      <td>0</td>\n",
       "      <td>0</td>\n",
       "      <td>0</td>\n",
       "    </tr>\n",
       "    <tr>\n",
       "      <th>27705</th>\n",
       "      <td>103</td>\n",
       "      <td>0.920000</td>\n",
       "      <td>1</td>\n",
       "      <td>2</td>\n",
       "      <td>6</td>\n",
       "      <td>52</td>\n",
       "      <td>2123</td>\n",
       "      <td>4474</td>\n",
       "      <td>0</td>\n",
       "      <td>0</td>\n",
       "      <td>...</td>\n",
       "      <td>0</td>\n",
       "      <td>0</td>\n",
       "      <td>0</td>\n",
       "      <td>0</td>\n",
       "      <td>0</td>\n",
       "      <td>0</td>\n",
       "      <td>0</td>\n",
       "      <td>0</td>\n",
       "      <td>0</td>\n",
       "      <td>1</td>\n",
       "    </tr>\n",
       "  </tbody>\n",
       "</table>\n",
       "<p>27706 rows × 35 columns</p>\n",
       "</div>"
      ],
      "text/plain": [
       "          city  city_development_index  relevent_experience  experience  \\\n",
       "0          103                0.920000                    1          27   \n",
       "1           40                0.776000                    0          15   \n",
       "2           21                0.624000                    0           5   \n",
       "3          162                0.767000                    0          27   \n",
       "4          176                0.764000                    0          11   \n",
       "...        ...                     ...                  ...         ...   \n",
       "27701       21                0.624000                    1           0   \n",
       "27702  97.8332                0.679527                    0           4   \n",
       "27703       21                0.624000                    0          12   \n",
       "27704       21                0.624000                    1           1   \n",
       "27705      103                0.920000                    1           2   \n",
       "\n",
       "      last_new_job  training_hours  company_size_min  company_size_max  \\\n",
       "0                1              36              2123              4474   \n",
       "1                6              47              2123              4474   \n",
       "2                6              83                50                99   \n",
       "3                0               8              2123              4474   \n",
       "4                4              24                50                99   \n",
       "...            ...             ...               ...               ...   \n",
       "27701      1.74684              35                50                99   \n",
       "27702            0              28              1000              4999   \n",
       "27703            0              46             10000             20000   \n",
       "27704      3.48759             196             10000             20000   \n",
       "27705            6              52              2123              4474   \n",
       "\n",
       "       Type_no_enrollment  Type_Full_time_course  ...  Stream_Arts  \\\n",
       "0                       1                      0  ...            0   \n",
       "1                       1                      0  ...            0   \n",
       "2                       0                      1  ...            0   \n",
       "3                       1                      0  ...            0   \n",
       "4                       0                      0  ...            0   \n",
       "...                   ...                    ...  ...          ...   \n",
       "27701                   0                      0  ...            0   \n",
       "27702                   0                      0  ...            0   \n",
       "27703                   1                      0  ...            0   \n",
       "27704                   1                      0  ...            0   \n",
       "27705                   0                      0  ...            0   \n",
       "\n",
       "       Stream_No_Major  Stream_Unknown  Company_Pvt_Ltd  \\\n",
       "0                    0               0                0   \n",
       "1                    0               0                1   \n",
       "2                    0               0                0   \n",
       "3                    0               0                0   \n",
       "4                    0               0                0   \n",
       "...                ...             ...              ...   \n",
       "27701                0               0                0   \n",
       "27702                0               0                0   \n",
       "27703                0               0                0   \n",
       "27704                0               0                0   \n",
       "27705                0               0                0   \n",
       "\n",
       "       Company_Funded_Startup  Company_Public_Sector  \\\n",
       "0                           0                      0   \n",
       "1                           0                      0   \n",
       "2                           0                      0   \n",
       "3                           1                      0   \n",
       "4                           0                      0   \n",
       "...                       ...                    ...   \n",
       "27701                       0                      0   \n",
       "27702                       0                      0   \n",
       "27703                       0                      0   \n",
       "27704                       0                      0   \n",
       "27705                       0                      0   \n",
       "\n",
       "       Company_Early_Stage_Startup  Company_NGO  Company_Other  \\\n",
       "0                                0            0              0   \n",
       "1                                0            0              0   \n",
       "2                                0            0              0   \n",
       "3                                0            0              0   \n",
       "4                                0            0              0   \n",
       "...                            ...          ...            ...   \n",
       "27701                            0            0              0   \n",
       "27702                            0            0              0   \n",
       "27703                            0            0              0   \n",
       "27704                            0            0              0   \n",
       "27705                            0            0              0   \n",
       "\n",
       "       Company_Unknown  \n",
       "0                    1  \n",
       "1                    0  \n",
       "2                    1  \n",
       "3                    0  \n",
       "4                    1  \n",
       "...                ...  \n",
       "27701                0  \n",
       "27702                1  \n",
       "27703                0  \n",
       "27704                0  \n",
       "27705                1  \n",
       "\n",
       "[27706 rows x 35 columns]"
      ]
     },
     "execution_count": 37,
     "metadata": {},
     "output_type": "execute_result"
    }
   ],
   "source": [
    "X"
   ]
  },
  {
   "cell_type": "code",
   "execution_count": 38,
   "metadata": {},
   "outputs": [
    {
     "data": {
      "text/plain": [
       "0.0    13853\n",
       "1.0    13853\n",
       "Name: target, dtype: int64"
      ]
     },
     "execution_count": 38,
     "metadata": {},
     "output_type": "execute_result"
    }
   ],
   "source": [
    "Y[\"target\"].value_counts()"
   ]
  },
  {
   "cell_type": "markdown",
   "metadata": {},
   "source": [
    "### Data balanced successfully! 😎"
   ]
  },
  {
   "cell_type": "code",
   "execution_count": 39,
   "metadata": {},
   "outputs": [],
   "source": [
    "train_data_final = X.copy()\n",
    "train_data_final['target'] = Y\n",
    "test_data_final = test_data.copy() "
   ]
  },
  {
   "cell_type": "code",
   "execution_count": 40,
   "metadata": {},
   "outputs": [],
   "source": [
    "train_data_final.to_csv(\"Job_Change_Prediction.csv\")"
   ]
  },
  {
   "cell_type": "code",
   "execution_count": 41,
   "metadata": {},
   "outputs": [],
   "source": [
    "cols_to_be_normalized = [\"city\",\"city_development_index\",\"experience\",\"last_new_job\",\"training_hours\",\"company_size_min\",\"company_size_max\"]\n",
    "cols_not_to_be_normalized = [\"relevent_experience\",\"Type_no_enrollment\",\"Type_Full_time_course\",\"Type_Part_time_course\",\"Gender_Male\",\"Gender_Female\",\"Gender_Unknown\",\n",
    "                            \"Gender_Other\",\"Education_Graduate\",\"Education_Masters\",\"Education_High_School\",\"Education_Primary_School\",\"Education_Phd\",\n",
    "                            \"Education_Unknown\",\"Stream_STEM\",\"Stream_Humanities\",\"Stream_Other\",\"Stream_Business_Degree\",\"Stream_Arts\",\"Stream_No_Major\",\n",
    "                            \"Stream_Unknown\",\"Company_Pvt_Ltd\",\"Company_Funded_Startup\",\"Company_Public_Sector\", \"Company_Early_Stage_Startup\", \"Company_NGO\",\n",
    "                            \"Company_Other\", \"Company_Unknown\", \"target\"]"
   ]
  },
  {
   "cell_type": "markdown",
   "metadata": {},
   "source": [
    "## Normalization"
   ]
  },
  {
   "cell_type": "markdown",
   "metadata": {},
   "source": [
    "Normalization is a technique often applied as part of data preparation for machine learning. The goal of normalization is to change the values of numeric columns in the dataset to a common scale, without distorting differences in the ranges of values."
   ]
  },
  {
   "cell_type": "code",
   "execution_count": 42,
   "metadata": {},
   "outputs": [],
   "source": [
    "train_normalized = normalize(train_data_final[cols_to_be_normalized])\n",
    "train_boolean = train_data_final[cols_not_to_be_normalized]\n",
    "df_train_normalized = pd.DataFrame(train_normalized,columns = cols_to_be_normalized)\n",
    "df_train_boolean = pd.DataFrame(train_boolean,columns=cols_not_to_be_normalized)"
   ]
  },
  {
   "cell_type": "code",
   "execution_count": 43,
   "metadata": {},
   "outputs": [],
   "source": [
    "cols_to_be_normalized = [\"city\",\"city_development_index\",\"experience\",\"last_new_job\",\"training_hours\",\"company_size_min\",\"company_size_max\"]\n",
    "cols_not_to_be_normalized = [\"relevent_experience\",\"Type_no_enrollment\",\"Type_Full_time_course\",\"Type_Part_time_course\",\"Gender_Male\",\"Gender_Female\",\"Gender_Unknown\",\n",
    "                            \"Gender_Other\",\"Education_Graduate\",\"Education_Masters\",\"Education_High_School\",\"Education_Primary_School\",\"Education_Phd\",\n",
    "                            \"Education_Unknown\",\"Stream_STEM\",\"Stream_Humanities\",\"Stream_Other\",\"Stream_Business_Degree\",\"Stream_Arts\",\"Stream_No_Major\",\n",
    "                            \"Stream_Unknown\",\"Company_Pvt_Ltd\",\"Company_Funded_Startup\",\"Company_Public_Sector\", \"Company_Early_Stage_Startup\", \"Company_NGO\",\n",
    "                            \"Company_Other\", \"Company_Unknown\"]"
   ]
  },
  {
   "cell_type": "code",
   "execution_count": 44,
   "metadata": {},
   "outputs": [],
   "source": [
    "test_normalized = normalize(test_data_final[cols_to_be_normalized])\n",
    "test_boolean = test_data_final[cols_not_to_be_normalized]\n",
    "df_test_normalized = pd.DataFrame(test_normalized,columns = cols_to_be_normalized)\n",
    "df_test_boolean = pd.DataFrame(test_boolean,columns=cols_not_to_be_normalized)"
   ]
  },
  {
   "cell_type": "code",
   "execution_count": 45,
   "metadata": {},
   "outputs": [
    {
     "data": {
      "text/html": [
       "<div>\n",
       "<style scoped>\n",
       "    .dataframe tbody tr th:only-of-type {\n",
       "        vertical-align: middle;\n",
       "    }\n",
       "\n",
       "    .dataframe tbody tr th {\n",
       "        vertical-align: top;\n",
       "    }\n",
       "\n",
       "    .dataframe thead th {\n",
       "        text-align: right;\n",
       "    }\n",
       "</style>\n",
       "<table border=\"1\" class=\"dataframe\">\n",
       "  <thead>\n",
       "    <tr style=\"text-align: right;\">\n",
       "      <th></th>\n",
       "      <th>city</th>\n",
       "      <th>city_development_index</th>\n",
       "      <th>experience</th>\n",
       "      <th>last_new_job</th>\n",
       "      <th>training_hours</th>\n",
       "      <th>company_size_min</th>\n",
       "      <th>company_size_max</th>\n",
       "      <th>relevent_experience</th>\n",
       "      <th>Type_no_enrollment</th>\n",
       "      <th>Type_Full_time_course</th>\n",
       "      <th>...</th>\n",
       "      <th>Stream_Arts</th>\n",
       "      <th>Stream_No_Major</th>\n",
       "      <th>Stream_Unknown</th>\n",
       "      <th>Company_Pvt_Ltd</th>\n",
       "      <th>Company_Funded_Startup</th>\n",
       "      <th>Company_Public_Sector</th>\n",
       "      <th>Company_Early_Stage_Startup</th>\n",
       "      <th>Company_NGO</th>\n",
       "      <th>Company_Other</th>\n",
       "      <th>Company_Unknown</th>\n",
       "    </tr>\n",
       "  </thead>\n",
       "  <tbody>\n",
       "    <tr>\n",
       "      <th>0</th>\n",
       "      <td>0.857395</td>\n",
       "      <td>0.017294</td>\n",
       "      <td>0.188209</td>\n",
       "      <td>0.020912</td>\n",
       "      <td>0.439153</td>\n",
       "      <td>0.020912</td>\n",
       "      <td>0.188209</td>\n",
       "      <td>1</td>\n",
       "      <td>0</td>\n",
       "      <td>1</td>\n",
       "      <td>...</td>\n",
       "      <td>0</td>\n",
       "      <td>0</td>\n",
       "      <td>0</td>\n",
       "      <td>0</td>\n",
       "      <td>0</td>\n",
       "      <td>0</td>\n",
       "      <td>0</td>\n",
       "      <td>0</td>\n",
       "      <td>0</td>\n",
       "      <td>1</td>\n",
       "    </tr>\n",
       "    <tr>\n",
       "      <th>1</th>\n",
       "      <td>0.020697</td>\n",
       "      <td>0.000185</td>\n",
       "      <td>0.001005</td>\n",
       "      <td>0.000201</td>\n",
       "      <td>0.019692</td>\n",
       "      <td>0.428205</td>\n",
       "      <td>0.903229</td>\n",
       "      <td>1</td>\n",
       "      <td>1</td>\n",
       "      <td>0</td>\n",
       "      <td>...</td>\n",
       "      <td>0</td>\n",
       "      <td>0</td>\n",
       "      <td>0</td>\n",
       "      <td>1</td>\n",
       "      <td>0</td>\n",
       "      <td>0</td>\n",
       "      <td>0</td>\n",
       "      <td>0</td>\n",
       "      <td>0</td>\n",
       "      <td>0</td>\n",
       "    </tr>\n",
       "    <tr>\n",
       "      <th>2</th>\n",
       "      <td>0.004221</td>\n",
       "      <td>0.000125</td>\n",
       "      <td>0.000000</td>\n",
       "      <td>0.000000</td>\n",
       "      <td>0.003015</td>\n",
       "      <td>0.428374</td>\n",
       "      <td>0.903586</td>\n",
       "      <td>0</td>\n",
       "      <td>1</td>\n",
       "      <td>0</td>\n",
       "      <td>...</td>\n",
       "      <td>0</td>\n",
       "      <td>0</td>\n",
       "      <td>1</td>\n",
       "      <td>1</td>\n",
       "      <td>0</td>\n",
       "      <td>0</td>\n",
       "      <td>0</td>\n",
       "      <td>0</td>\n",
       "      <td>0</td>\n",
       "      <td>0</td>\n",
       "    </tr>\n",
       "    <tr>\n",
       "      <th>3</th>\n",
       "      <td>0.002613</td>\n",
       "      <td>0.000166</td>\n",
       "      <td>0.002211</td>\n",
       "      <td>0.000201</td>\n",
       "      <td>0.007840</td>\n",
       "      <td>0.428364</td>\n",
       "      <td>0.903566</td>\n",
       "      <td>0</td>\n",
       "      <td>1</td>\n",
       "      <td>0</td>\n",
       "      <td>...</td>\n",
       "      <td>0</td>\n",
       "      <td>0</td>\n",
       "      <td>0</td>\n",
       "      <td>1</td>\n",
       "      <td>0</td>\n",
       "      <td>0</td>\n",
       "      <td>0</td>\n",
       "      <td>0</td>\n",
       "      <td>0</td>\n",
       "      <td>0</td>\n",
       "    </tr>\n",
       "    <tr>\n",
       "      <th>4</th>\n",
       "      <td>0.020698</td>\n",
       "      <td>0.000185</td>\n",
       "      <td>0.005426</td>\n",
       "      <td>0.001206</td>\n",
       "      <td>0.014469</td>\n",
       "      <td>0.428237</td>\n",
       "      <td>0.903296</td>\n",
       "      <td>1</td>\n",
       "      <td>1</td>\n",
       "      <td>0</td>\n",
       "      <td>...</td>\n",
       "      <td>0</td>\n",
       "      <td>0</td>\n",
       "      <td>0</td>\n",
       "      <td>1</td>\n",
       "      <td>0</td>\n",
       "      <td>0</td>\n",
       "      <td>0</td>\n",
       "      <td>0</td>\n",
       "      <td>0</td>\n",
       "      <td>0</td>\n",
       "    </tr>\n",
       "    <tr>\n",
       "      <th>...</th>\n",
       "      <td>...</td>\n",
       "      <td>...</td>\n",
       "      <td>...</td>\n",
       "      <td>...</td>\n",
       "      <td>...</td>\n",
       "      <td>...</td>\n",
       "      <td>...</td>\n",
       "      <td>...</td>\n",
       "      <td>...</td>\n",
       "      <td>...</td>\n",
       "      <td>...</td>\n",
       "      <td>...</td>\n",
       "      <td>...</td>\n",
       "      <td>...</td>\n",
       "      <td>...</td>\n",
       "      <td>...</td>\n",
       "      <td>...</td>\n",
       "      <td>...</td>\n",
       "      <td>...</td>\n",
       "      <td>...</td>\n",
       "      <td>...</td>\n",
       "    </tr>\n",
       "    <tr>\n",
       "      <th>2058</th>\n",
       "      <td>0.197824</td>\n",
       "      <td>0.001767</td>\n",
       "      <td>0.030730</td>\n",
       "      <td>0.001921</td>\n",
       "      <td>0.028809</td>\n",
       "      <td>0.192062</td>\n",
       "      <td>0.960311</td>\n",
       "      <td>0</td>\n",
       "      <td>1</td>\n",
       "      <td>0</td>\n",
       "      <td>...</td>\n",
       "      <td>0</td>\n",
       "      <td>0</td>\n",
       "      <td>0</td>\n",
       "      <td>0</td>\n",
       "      <td>0</td>\n",
       "      <td>1</td>\n",
       "      <td>0</td>\n",
       "      <td>0</td>\n",
       "      <td>0</td>\n",
       "      <td>0</td>\n",
       "    </tr>\n",
       "    <tr>\n",
       "      <th>2059</th>\n",
       "      <td>0.257144</td>\n",
       "      <td>0.001696</td>\n",
       "      <td>0.034034</td>\n",
       "      <td>0.001891</td>\n",
       "      <td>0.056723</td>\n",
       "      <td>0.189076</td>\n",
       "      <td>0.945381</td>\n",
       "      <td>0</td>\n",
       "      <td>1</td>\n",
       "      <td>0</td>\n",
       "      <td>...</td>\n",
       "      <td>0</td>\n",
       "      <td>0</td>\n",
       "      <td>0</td>\n",
       "      <td>0</td>\n",
       "      <td>0</td>\n",
       "      <td>0</td>\n",
       "      <td>0</td>\n",
       "      <td>0</td>\n",
       "      <td>0</td>\n",
       "      <td>1</td>\n",
       "    </tr>\n",
       "    <tr>\n",
       "      <th>2060</th>\n",
       "      <td>0.008945</td>\n",
       "      <td>0.000079</td>\n",
       "      <td>0.000268</td>\n",
       "      <td>0.000089</td>\n",
       "      <td>0.001610</td>\n",
       "      <td>0.447231</td>\n",
       "      <td>0.894372</td>\n",
       "      <td>0</td>\n",
       "      <td>1</td>\n",
       "      <td>0</td>\n",
       "      <td>...</td>\n",
       "      <td>0</td>\n",
       "      <td>0</td>\n",
       "      <td>1</td>\n",
       "      <td>1</td>\n",
       "      <td>0</td>\n",
       "      <td>0</td>\n",
       "      <td>0</td>\n",
       "      <td>0</td>\n",
       "      <td>0</td>\n",
       "      <td>0</td>\n",
       "    </tr>\n",
       "    <tr>\n",
       "      <th>2061</th>\n",
       "      <td>0.020497</td>\n",
       "      <td>0.000162</td>\n",
       "      <td>0.001407</td>\n",
       "      <td>0.001206</td>\n",
       "      <td>0.016880</td>\n",
       "      <td>0.428228</td>\n",
       "      <td>0.903278</td>\n",
       "      <td>0</td>\n",
       "      <td>0</td>\n",
       "      <td>1</td>\n",
       "      <td>...</td>\n",
       "      <td>0</td>\n",
       "      <td>0</td>\n",
       "      <td>1</td>\n",
       "      <td>0</td>\n",
       "      <td>0</td>\n",
       "      <td>1</td>\n",
       "      <td>0</td>\n",
       "      <td>0</td>\n",
       "      <td>0</td>\n",
       "      <td>0</td>\n",
       "    </tr>\n",
       "    <tr>\n",
       "      <th>2062</th>\n",
       "      <td>0.020500</td>\n",
       "      <td>0.000162</td>\n",
       "      <td>0.003015</td>\n",
       "      <td>0.001206</td>\n",
       "      <td>0.002211</td>\n",
       "      <td>0.428287</td>\n",
       "      <td>0.903402</td>\n",
       "      <td>1</td>\n",
       "      <td>1</td>\n",
       "      <td>0</td>\n",
       "      <td>...</td>\n",
       "      <td>0</td>\n",
       "      <td>0</td>\n",
       "      <td>0</td>\n",
       "      <td>1</td>\n",
       "      <td>0</td>\n",
       "      <td>0</td>\n",
       "      <td>0</td>\n",
       "      <td>0</td>\n",
       "      <td>0</td>\n",
       "      <td>0</td>\n",
       "    </tr>\n",
       "  </tbody>\n",
       "</table>\n",
       "<p>2063 rows × 35 columns</p>\n",
       "</div>"
      ],
      "text/plain": [
       "          city  city_development_index  experience  last_new_job  \\\n",
       "0     0.857395                0.017294    0.188209      0.020912   \n",
       "1     0.020697                0.000185    0.001005      0.000201   \n",
       "2     0.004221                0.000125    0.000000      0.000000   \n",
       "3     0.002613                0.000166    0.002211      0.000201   \n",
       "4     0.020698                0.000185    0.005426      0.001206   \n",
       "...        ...                     ...         ...           ...   \n",
       "2058  0.197824                0.001767    0.030730      0.001921   \n",
       "2059  0.257144                0.001696    0.034034      0.001891   \n",
       "2060  0.008945                0.000079    0.000268      0.000089   \n",
       "2061  0.020497                0.000162    0.001407      0.001206   \n",
       "2062  0.020500                0.000162    0.003015      0.001206   \n",
       "\n",
       "      training_hours  company_size_min  company_size_max  relevent_experience  \\\n",
       "0           0.439153          0.020912          0.188209                    1   \n",
       "1           0.019692          0.428205          0.903229                    1   \n",
       "2           0.003015          0.428374          0.903586                    0   \n",
       "3           0.007840          0.428364          0.903566                    0   \n",
       "4           0.014469          0.428237          0.903296                    1   \n",
       "...              ...               ...               ...                  ...   \n",
       "2058        0.028809          0.192062          0.960311                    0   \n",
       "2059        0.056723          0.189076          0.945381                    0   \n",
       "2060        0.001610          0.447231          0.894372                    0   \n",
       "2061        0.016880          0.428228          0.903278                    0   \n",
       "2062        0.002211          0.428287          0.903402                    1   \n",
       "\n",
       "      Type_no_enrollment  Type_Full_time_course  ...  Stream_Arts  \\\n",
       "0                      0                      1  ...            0   \n",
       "1                      1                      0  ...            0   \n",
       "2                      1                      0  ...            0   \n",
       "3                      1                      0  ...            0   \n",
       "4                      1                      0  ...            0   \n",
       "...                  ...                    ...  ...          ...   \n",
       "2058                   1                      0  ...            0   \n",
       "2059                   1                      0  ...            0   \n",
       "2060                   1                      0  ...            0   \n",
       "2061                   0                      1  ...            0   \n",
       "2062                   1                      0  ...            0   \n",
       "\n",
       "      Stream_No_Major  Stream_Unknown  Company_Pvt_Ltd  \\\n",
       "0                   0               0                0   \n",
       "1                   0               0                1   \n",
       "2                   0               1                1   \n",
       "3                   0               0                1   \n",
       "4                   0               0                1   \n",
       "...               ...             ...              ...   \n",
       "2058                0               0                0   \n",
       "2059                0               0                0   \n",
       "2060                0               1                1   \n",
       "2061                0               1                0   \n",
       "2062                0               0                1   \n",
       "\n",
       "      Company_Funded_Startup  Company_Public_Sector  \\\n",
       "0                          0                      0   \n",
       "1                          0                      0   \n",
       "2                          0                      0   \n",
       "3                          0                      0   \n",
       "4                          0                      0   \n",
       "...                      ...                    ...   \n",
       "2058                       0                      1   \n",
       "2059                       0                      0   \n",
       "2060                       0                      0   \n",
       "2061                       0                      1   \n",
       "2062                       0                      0   \n",
       "\n",
       "      Company_Early_Stage_Startup  Company_NGO  Company_Other  Company_Unknown  \n",
       "0                               0            0              0                1  \n",
       "1                               0            0              0                0  \n",
       "2                               0            0              0                0  \n",
       "3                               0            0              0                0  \n",
       "4                               0            0              0                0  \n",
       "...                           ...          ...            ...              ...  \n",
       "2058                            0            0              0                0  \n",
       "2059                            0            0              0                1  \n",
       "2060                            0            0              0                0  \n",
       "2061                            0            0              0                0  \n",
       "2062                            0            0              0                0  \n",
       "\n",
       "[2063 rows x 35 columns]"
      ]
     },
     "execution_count": 45,
     "metadata": {},
     "output_type": "execute_result"
    }
   ],
   "source": [
    "df_train_final = df_train_normalized.merge(df_train_boolean,left_index=True, right_index=True)\n",
    "df_test_final = df_test_normalized.merge(df_test_boolean,left_index=True, right_index=True)\n",
    "df_test_final.index = np.arange(0,len(df_test_final))\n",
    "df_test_final"
   ]
  },
  {
   "cell_type": "markdown",
   "metadata": {},
   "source": [
    "### Splitting Independent & dependent varaiables"
   ]
  },
  {
   "cell_type": "code",
   "execution_count": 46,
   "metadata": {},
   "outputs": [],
   "source": [
    "X = df_train_final.drop(\"target\",axis = 1)\n",
    "Y = df_train_final[\"target\"]"
   ]
  },
  {
   "cell_type": "markdown",
   "metadata": {},
   "source": [
    "## Train/Test Split"
   ]
  },
  {
   "cell_type": "code",
   "execution_count": 47,
   "metadata": {},
   "outputs": [],
   "source": [
    "X_train, X_test, Y_train, Y_test = train_test_split(X, Y, test_size=0.33, random_state=42,shuffle=True, stratify = Y)"
   ]
  },
  {
   "cell_type": "markdown",
   "metadata": {},
   "source": [
    "# MODELING"
   ]
  },
  {
   "cell_type": "markdown",
   "metadata": {},
   "source": [
    "ROC AUC provides an aggregate measure of performance across all possible classification thresholds. One way of interpreting ROC AUC is as the probability that the model ranks a random positive example more highly than a random negative example. "
   ]
  },
  {
   "cell_type": "code",
   "execution_count": 48,
   "metadata": {},
   "outputs": [],
   "source": [
    "def plot_roc_auc(y_test,y_pred):\n",
    "    from plot_metric.functions import BinaryClassification\n",
    "    # Visualisation with plot_metric\n",
    "    bc = BinaryClassification(y_test, y_pred, labels=[\"Class 1\", \"Class 0\"])\n",
    "\n",
    "    # Figures\n",
    "    plt.figure(figsize=(8,7))\n",
    "    bc.plot_roc_curve()\n",
    "    \n",
    "    plt.show()    "
   ]
  },
  {
   "cell_type": "code",
   "execution_count": 49,
   "metadata": {},
   "outputs": [],
   "source": [
    "import numpy as np\n",
    "from sklearn.metrics import auc, accuracy_score, confusion_matrix, f1_score, classification_report\n",
    "from sklearn.neighbors import KNeighborsClassifier\n",
    "from sklearn.model_selection import StratifiedKFold\n",
    "from sklearn.model_selection import GridSearchCV"
   ]
  },
  {
   "cell_type": "code",
   "execution_count": 50,
   "metadata": {},
   "outputs": [],
   "source": [
    "# model accuracy\n",
    "result = []"
   ]
  },
  {
   "cell_type": "markdown",
   "metadata": {},
   "source": [
    "## 1. KNN Classifier"
   ]
  },
  {
   "cell_type": "markdown",
   "metadata": {},
   "source": [
    "In KNN & XGBoost we will use Grid Search. Grid-searching is the process of scanning the data to configure optimal parameters for a given model. Depending on the type of model utilized, certain parameters are necessary. Grid-searching does NOT only apply to one model type. Grid-searching can be applied across machine learning to calculate the best parameters to use for any given model."
   ]
  },
  {
   "cell_type": "code",
   "execution_count": 51,
   "metadata": {},
   "outputs": [
    {
     "name": "stdout",
     "output_type": "stream",
     "text": [
      "Fitting 10 folds for each of 40 candidates, totalling 400 fits\n"
     ]
    },
    {
     "name": "stderr",
     "output_type": "stream",
     "text": [
      "[Parallel(n_jobs=-1)]: Using backend LokyBackend with 8 concurrent workers.\n",
      "[Parallel(n_jobs=-1)]: Done  34 tasks      | elapsed:   20.1s\n",
      "[Parallel(n_jobs=-1)]: Done 184 tasks      | elapsed:  1.5min\n",
      "[Parallel(n_jobs=-1)]: Done 400 out of 400 | elapsed:  3.5min finished\n"
     ]
    },
    {
     "name": "stdout",
     "output_type": "stream",
     "text": [
      "\n",
      "\n",
      "RESULTS : \n",
      "KNN Model Acc :  0.82\n",
      "KNN Model F1-score :  0.81\n",
      "Report : \n",
      "               precision    recall  f1-score   support\n",
      "\n",
      "         0.0       0.79      0.86      0.82      4572\n",
      "         1.0       0.85      0.77      0.81      4571\n",
      "\n",
      "    accuracy                           0.82      9143\n",
      "   macro avg       0.82      0.82      0.82      9143\n",
      "weighted avg       0.82      0.82      0.82      9143\n",
      "\n",
      "\n",
      "\n"
     ]
    }
   ],
   "source": [
    "knn_param_grid = {\"n_neighbors\": np.linspace(1,19,10, dtype = int).tolist(),\n",
    "                 \"weights\": [\"uniform\",\"distance\"],\n",
    "                 \"metric\":[\"euclidean\",\"manhattan\"]}\n",
    "\n",
    "knn = KNeighborsClassifier()\n",
    "clf = GridSearchCV(knn, param_grid=knn_param_grid, cv = StratifiedKFold(n_splits = 10), \n",
    "                   scoring = \"accuracy\", n_jobs = -1,verbose = 1)\n",
    "clf.fit(X_train,Y_train)\n",
    "y_pred_knn = clf.predict(X_test)\n",
    "acc_random_knn = accuracy_score(Y_test, y_pred_knn)\n",
    "fscore = f1_score(Y_test,y_pred_knn)\n",
    "result.append(acc_random_knn)\n",
    "\n",
    "print('\\n')\n",
    "print(\"RESULTS : \")\n",
    "print(\"KNN Model Acc : \", round(acc_random_knn,2))\n",
    "print(\"KNN Model F1-score : \", round(fscore,2))\n",
    "print(\"Report : \\n\",classification_report(Y_test,y_pred_knn))\n",
    "print('\\n')\n"
   ]
  },
  {
   "cell_type": "code",
   "execution_count": 52,
   "metadata": {},
   "outputs": [
    {
     "data": {
      "image/png": "[encoded data removed]",
      "text/plain": [
       "<Figure size 576x504 with 1 Axes>"
      ]
     },
     "metadata": {},
     "output_type": "display_data"
    }
   ],
   "source": [
    "plot_roc_auc(Y_test,y_pred_knn)"
   ]
  },
  {
   "cell_type": "markdown",
   "metadata": {},
   "source": [
    "# 2. XGBoost Classifier"
   ]
  },
  {
   "cell_type": "markdown",
   "metadata": {},
   "source": [
    "XGBoost is a decision-tree-based ensemble Machine Learning algorithm that uses a gradient boosting framework. In prediction problems involving unstructured data (images, text, etc.) artificial neural networks tend to outperform all other algorithms or frameworks."
   ]
  },
  {
   "cell_type": "code",
   "execution_count": 53,
   "metadata": {},
   "outputs": [
    {
     "name": "stdout",
     "output_type": "stream",
     "text": [
      "Fitting 5 folds for each of 1 candidates, totalling 5 fits\n"
     ]
    },
    {
     "name": "stderr",
     "output_type": "stream",
     "text": [
      "[Parallel(n_jobs=1)]: Using backend SequentialBackend with 1 concurrent workers.\n",
      "[Parallel(n_jobs=1)]: Done   5 out of   5 | elapsed:   11.2s finished\n"
     ]
    },
    {
     "name": "stdout",
     "output_type": "stream",
     "text": [
      "RESULTS : \n",
      "XGBoost Model Accuracy :  0.84\n",
      "XGBoost Model F1-score :  0.84\n",
      "Report :\n",
      "               precision    recall  f1-score   support\n",
      "\n",
      "         0.0       0.82      0.88      0.85      4572\n",
      "         1.0       0.87      0.81      0.84      4571\n",
      "\n",
      "    accuracy                           0.84      9143\n",
      "   macro avg       0.84      0.84      0.84      9143\n",
      "weighted avg       0.84      0.84      0.84      9143\n",
      "\n",
      "\n",
      "\n"
     ]
    },
    {
     "data": {
      "image/png": "[encoded data removed]",
      "text/plain": [
       "<Figure size 576x504 with 1 Axes>"
      ]
     },
     "metadata": {},
     "output_type": "display_data"
    }
   ],
   "source": [
    "import warnings\n",
    "warnings.filterwarnings(\"ignore\")\n",
    "import xgboost as xgb\n",
    "#from sklearn.calibration import CalibratedClassifierCV\n",
    "\n",
    "parameters = {'nthread':[4], #when use hyperthread, xgboost may become slower\n",
    "              'objective':['binary:logistic'],\n",
    "              'learning_rate': [0.1], #so called `eta` value\n",
    "              'max_depth': [5],\n",
    "              'min_child_weight': [7],\n",
    "              #'silent': [1],\n",
    "              'subsample': [0.8],\n",
    "              'colsample_bytree': [0.7],\n",
    "              'n_estimators': [100], #number of trees\n",
    "              'seed': [1337]}\n",
    "\n",
    "XGB = xgb.XGBClassifier()\n",
    "XGB = GridSearchCV(XGB, parameters, cv = StratifiedKFold(5, shuffle=True), \n",
    "                   scoring='roc_auc',\n",
    "                   verbose=1, refit=True)\n",
    "# XGB = CalibratedClassifierCV(XGB, method=\"sigmoid\")\n",
    "XGB.fit(X_train, Y_train,eval_metric='rmse')\n",
    "y_pred_xgb = XGB.predict(X_test)\n",
    "fscore = f1_score(Y_test,y_pred_xgb)\n",
    "acc_xgb = accuracy_score(Y_test, y_pred_xgb)\n",
    "result.append(acc_xgb)\n",
    "\n",
    "\n",
    "print(\"RESULTS : \")\n",
    "print(\"XGBoost Model Accuracy : \",round(acc_xgb,2))\n",
    "print(\"XGBoost Model F1-score : \",round(fscore,2))\n",
    "print(\"Report :\\n\",classification_report(Y_test,y_pred_xgb))\n",
    "\n",
    "print('\\n')\n",
    "plot_roc_auc(Y_test,y_pred_xgb)"
   ]
  },
  {
   "cell_type": "markdown",
   "metadata": {},
   "source": [
    "# 3. Random Forest Classifier"
   ]
  },
  {
   "cell_type": "markdown",
   "metadata": {},
   "source": [
    "Random forest  is used widely in Classification and Regression problems. It builds decision trees on different samples and takes their majority vote for classification and average in case of regression."
   ]
  },
  {
   "cell_type": "code",
   "execution_count": 54,
   "metadata": {},
   "outputs": [
    {
     "name": "stdout",
     "output_type": "stream",
     "text": [
      "RESULTS :\n",
      "Random Forest Model Accuracy :  0.74\n",
      "Random Forest Model F1-score :  0.73\n",
      "Classification Report :\n",
      "               precision    recall  f1-score   support\n",
      "\n",
      "         0.0       0.72      0.77      0.75      4572\n",
      "         1.0       0.76      0.71      0.73      4571\n",
      "\n",
      "    accuracy                           0.74      9143\n",
      "   macro avg       0.74      0.74      0.74      9143\n",
      "weighted avg       0.74      0.74      0.74      9143\n",
      "\n",
      "\n",
      "\n"
     ]
    },
    {
     "data": {
      "image/png": "[encoded data removed]",
      "text/plain": [
       "<Figure size 576x504 with 1 Axes>"
      ]
     },
     "metadata": {},
     "output_type": "display_data"
    }
   ],
   "source": [
    "from sklearn.ensemble import RandomForestClassifier\n",
    "random_forest_model = RandomForestClassifier(max_depth=2, random_state= 59)\n",
    "random_forest_model.fit(X_train, Y_train)\n",
    "y_pred_random_forest = random_forest_model.predict(X_test)\n",
    "fscore = f1_score(Y_test,y_pred_random_forest)\n",
    "acc_random_forest = accuracy_score(Y_test, y_pred_random_forest)\n",
    "result.append(acc_random_forest)\n",
    "\n",
    "print(\"RESULTS :\")\n",
    "print(\"Random Forest Model Accuracy : \",round(acc_random_forest,2))\n",
    "print(\"Random Forest Model F1-score : \",round(fscore,2))\n",
    "print(\"Classification Report :\\n\",classification_report(Y_test,y_pred_random_forest))\n",
    "\n",
    "print('\\n')\n",
    "plot_roc_auc(Y_test,y_pred_random_forest)"
   ]
  },
  {
   "cell_type": "markdown",
   "metadata": {},
   "source": [
    "# 4. Artifical Neural Networks"
   ]
  },
  {
   "cell_type": "code",
   "execution_count": 55,
   "metadata": {},
   "outputs": [
    {
     "name": "stdout",
     "output_type": "stream",
     "text": [
      "RESULTS :\n",
      "ANN Accuracy :  0.82\n",
      "ANN F1-score :  0.8\n",
      "Classification Report : \n",
      "               precision    recall  f1-score   support\n",
      "\n",
      "         0.0       0.77      0.91      0.83      4572\n",
      "         1.0       0.89      0.73      0.80      4571\n",
      "\n",
      "    accuracy                           0.82      9143\n",
      "   macro avg       0.83      0.82      0.82      9143\n",
      "weighted avg       0.83      0.82      0.82      9143\n",
      "\n",
      "\n",
      "\n",
      "\n",
      "\n"
     ]
    },
    {
     "data": {
      "image/png": "[encoded data removed]",
      "text/plain": [
       "<Figure size 576x504 with 1 Axes>"
      ]
     },
     "metadata": {},
     "output_type": "display_data"
    }
   ],
   "source": [
    "from sklearn.neural_network import MLPClassifier\n",
    "\n",
    "mlp = MLPClassifier(hidden_layer_sizes=(8,8,8), activation='relu', solver='adam', max_iter=500)\n",
    "mlp.fit(X_train,Y_train)\n",
    "\n",
    "predict_train = mlp.predict(X_train)\n",
    "y_pred = mlp.predict(X_test)\n",
    "\n",
    "fscore = f1_score(Y_test,y_pred)\n",
    "acc_mlp = accuracy_score(y_pred, Y_test)\n",
    "result.append(acc_mlp)\n",
    "\n",
    "print(\"RESULTS :\")\n",
    "print(\"ANN Accuracy : \",round(acc_mlp,2))\n",
    "print(\"ANN F1-score : \",round(fscore,2))\n",
    "print(\"Classification Report : \\n\",classification_report(Y_test,y_pred))\n",
    "print('\\n')\n",
    "\n",
    "print('\\n')\n",
    "plot_roc_auc(Y_test,y_pred)"
   ]
  },
  {
   "cell_type": "markdown",
   "metadata": {},
   "source": [
    "# Final Results"
   ]
  },
  {
   "cell_type": "code",
   "execution_count": 56,
   "metadata": {},
   "outputs": [
    {
     "data": {
      "text/html": [
       "<div>\n",
       "<style scoped>\n",
       "    .dataframe tbody tr th:only-of-type {\n",
       "        vertical-align: middle;\n",
       "    }\n",
       "\n",
       "    .dataframe tbody tr th {\n",
       "        vertical-align: top;\n",
       "    }\n",
       "\n",
       "    .dataframe thead th {\n",
       "        text-align: right;\n",
       "    }\n",
       "</style>\n",
       "<table border=\"1\" class=\"dataframe\">\n",
       "  <thead>\n",
       "    <tr style=\"text-align: right;\">\n",
       "      <th></th>\n",
       "      <th>Model Result</th>\n",
       "      <th>Models</th>\n",
       "    </tr>\n",
       "  </thead>\n",
       "  <tbody>\n",
       "    <tr>\n",
       "      <th>0</th>\n",
       "      <td>0.817018</td>\n",
       "      <td>knn</td>\n",
       "    </tr>\n",
       "    <tr>\n",
       "      <th>1</th>\n",
       "      <td>0.841627</td>\n",
       "      <td>XGBoost</td>\n",
       "    </tr>\n",
       "    <tr>\n",
       "      <th>2</th>\n",
       "      <td>0.739035</td>\n",
       "      <td>RandomForest</td>\n",
       "    </tr>\n",
       "    <tr>\n",
       "      <th>3</th>\n",
       "      <td>0.818550</td>\n",
       "      <td>ANN</td>\n",
       "    </tr>\n",
       "  </tbody>\n",
       "</table>\n",
       "</div>"
      ],
      "text/plain": [
       "   Model Result         Models\n",
       "0       0.817018           knn\n",
       "1       0.841627       XGBoost\n",
       "2       0.739035  RandomForest\n",
       "3       0.818550           ANN"
      ]
     },
     "execution_count": 56,
     "metadata": {},
     "output_type": "execute_result"
    }
   ],
   "source": [
    "results = pd.DataFrame({\"Model Result \": result, \n",
    "                        \"Models\":[\"knn\",\n",
    "                                  \"XGBoost\",\n",
    "                                  \"RandomForest\",\n",
    "                                  \"ANN\"]})\n",
    "\n",
    "results"
   ]
  },
  {
   "cell_type": "markdown",
   "metadata": {},
   "source": [
    "### It is clear that XGBoost algorithm has best metrics: Accuracy, Recall, Precision, and ROC Auc."
   ]
  },
  {
   "cell_type": "markdown",
   "metadata": {},
   "source": [
    "# 6. Imputing our model on given test data"
   ]
  },
  {
   "cell_type": "code",
   "execution_count": 57,
   "metadata": {},
   "outputs": [],
   "source": [
    "X_test = df_test_final.copy()"
   ]
  },
  {
   "cell_type": "code",
   "execution_count": 58,
   "metadata": {},
   "outputs": [],
   "source": [
    "Y_pred = XGB.predict(X_test) "
   ]
  },
  {
   "cell_type": "code",
   "execution_count": 59,
   "metadata": {},
   "outputs": [],
   "source": [
    "submission = pd.DataFrame(test_data_copy['enrollee_id'])\n",
    "submission[\"target\"] = Y_pred"
   ]
  },
  {
   "cell_type": "code",
   "execution_count": 60,
   "metadata": {},
   "outputs": [],
   "source": [
    "filename = 'H://submission.csv'\n",
    "submission.to_csv(filename)"
   ]
  },
  {
   "cell_type": "markdown",
   "metadata": {},
   "source": [
    "### Function that on given employee ID, gives target value:"
   ]
  },
  {
   "cell_type": "code",
   "execution_count": 73,
   "metadata": {},
   "outputs": [],
   "source": [
    "\n",
    "\n",
    "\n",
    "def predict_target():\n",
    "    from csv import reader\n",
    "    employee = input('Enter employee ID:')\n",
    "    # open file in read mode\n",
    "    with open('D://Submission.csv', 'r') as read_obj:\n",
    "        # pass the file object to reader() to get the reader object\n",
    "        csv_sub = reader(read_obj)\n",
    "        # Iterate over each row in the csv using reader object\n",
    "        for rows in csv_sub:\n",
    "            # row variable is a list that represents a row in csv\n",
    "            if( rows[1] == employee):\n",
    "                if (rows[2] == '0.0'):\n",
    "                    print (\"We found employee with ID: \" + employee + \" that is NOT looking for the job change: \" + rows[2])\n",
    "                elif (rows[2] == '1.0'):\n",
    "                    print (\"We found employee with ID: \" + employee + \" that is  looking for the job change: \" + rows[2])\n",
    "                else:\n",
    "                    print(\"There is no emlpoyee with that ID\")\n",
    "       "
   ]
  },
  {
   "cell_type": "code",
   "execution_count": 74,
   "metadata": {},
   "outputs": [
    {
     "name": "stdout",
     "output_type": "stream",
     "text": [
      "Enter employee ID:217\n",
      "We found employee with ID: 217 that is NOT looking for the job change: 0.0\n"
     ]
    }
   ],
   "source": [
    "predict_target()"
   ]
  },
  {
   "cell_type": "code",
   "execution_count": 75,
   "metadata": {},
   "outputs": [
    {
     "name": "stdout",
     "output_type": "stream",
     "text": [
      "Enter employee ID:31806\n",
      "We found employee with ID: 31806 that is  looking for the job change: 1.0\n"
     ]
    }
   ],
   "source": [
    "predict_target()"
   ]
  },
  {
   "cell_type": "code",
   "execution_count": null,
   "metadata": {},
   "outputs": [],
   "source": []
  }
 ],
 "metadata": {
  "kernelspec": {
   "display_name": "Python 3",
   "language": "python",
   "name": "python3"
  },
  "language_info": {
   "codemirror_mode": {
    "name": "ipython",
    "version": 3
   },
   "file_extension": ".py",
   "mimetype": "text/x-python",
   "name": "python",
   "nbconvert_exporter": "python",
   "pygments_lexer": "ipython3",
   "version": "3.8.5"
  }
 },
 "nbformat": 4,
 "nbformat_minor": 4
}
